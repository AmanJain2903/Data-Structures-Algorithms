{
 "cells": [
  {
   "cell_type": "markdown",
   "metadata": {},
   "source": [
    "# USED TO FIND ELEMENT HAVING FREQUENCY > N/2"
   ]
  },
  {
   "cell_type": "code",
   "execution_count": 1,
   "metadata": {},
   "outputs": [],
   "source": [
    "def mve(nums):\n",
    "    el = 0\n",
    "    cnt = 0\n",
    "    for num in nums:\n",
    "        if cnt==0:\n",
    "            el = num\n",
    "            cnt = 1\n",
    "        else:\n",
    "            if num==el:\n",
    "                cnt+=1\n",
    "            else:\n",
    "                cnt-=1\n",
    "    return el"
   ]
  },
  {
   "cell_type": "code",
   "execution_count": 3,
   "metadata": {},
   "outputs": [
    {
     "name": "stdout",
     "output_type": "stream",
     "text": [
      "3\n"
     ]
    }
   ],
   "source": [
    "nums = [1, 2, 3, 3, 3, 2, 2, 3]\n",
    "majorityEl = mve(nums)\n",
    "print(majorityEl)"
   ]
  }
 ],
 "metadata": {
  "kernelspec": {
   "display_name": "Python 3",
   "language": "python",
   "name": "python3"
  },
  "language_info": {
   "codemirror_mode": {
    "name": "ipython",
    "version": 3
   },
   "file_extension": ".py",
   "mimetype": "text/x-python",
   "name": "python",
   "nbconvert_exporter": "python",
   "pygments_lexer": "ipython3",
   "version": "3.9.6"
  }
 },
 "nbformat": 4,
 "nbformat_minor": 2
}
