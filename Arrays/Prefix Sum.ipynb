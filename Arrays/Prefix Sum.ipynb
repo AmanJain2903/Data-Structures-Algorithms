{
 "cells": [
  {
   "cell_type": "markdown",
   "metadata": {},
   "source": [
    "# PREFIX SUM ARRAY CAN BE USED TO SOLVE PROBLEMS OF SUBARRAY SUM EQUALS K"
   ]
  },
  {
   "cell_type": "code",
   "execution_count": 1,
   "metadata": {},
   "outputs": [],
   "source": [
    "def prefixSum(nums):\n",
    "    summ = 0\n",
    "    ps = []\n",
    "    for i in range(len(nums)):\n",
    "        ps.append(summ)\n",
    "        summ+=nums[i]\n",
    "    return ps"
   ]
  },
  {
   "cell_type": "code",
   "execution_count": 4,
   "metadata": {},
   "outputs": [
    {
     "name": "stdout",
     "output_type": "stream",
     "text": [
      "[0, 1, 3, 6, 10, 5, 11, 18, 26, 17]\n"
     ]
    }
   ],
   "source": [
    "nums = [1, 2, 3, 4, -5, 6, 7, 8, -9, 10]\n",
    "ps = prefixSum(nums)\n",
    "print(ps)"
   ]
  }
 ],
 "metadata": {
  "kernelspec": {
   "display_name": "Python 3",
   "language": "python",
   "name": "python3"
  },
  "language_info": {
   "codemirror_mode": {
    "name": "ipython",
    "version": 3
   },
   "file_extension": ".py",
   "mimetype": "text/x-python",
   "name": "python",
   "nbconvert_exporter": "python",
   "pygments_lexer": "ipython3",
   "version": "3.9.6"
  }
 },
 "nbformat": 4,
 "nbformat_minor": 2
}
