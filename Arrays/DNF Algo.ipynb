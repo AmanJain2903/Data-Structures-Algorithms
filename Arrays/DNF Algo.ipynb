{
 "cells": [
  {
   "cell_type": "markdown",
   "metadata": {},
   "source": [
    "# DNF CAN BE USED TO SORT ARRAY OF 0s 1s and 2s "
   ]
  },
  {
   "cell_type": "code",
   "execution_count": 7,
   "metadata": {},
   "outputs": [],
   "source": [
    "def dnf(nums):\n",
    "    low = mid = 0\n",
    "    high = len(nums)-1\n",
    "    while mid<=high:\n",
    "        if nums[mid]==0:\n",
    "            nums[mid], nums[low] = nums[low], nums[mid]\n",
    "            low+=1\n",
    "            mid+=1\n",
    "        elif nums[mid]==1:\n",
    "            mid+=1\n",
    "        elif nums[mid]==2:\n",
    "            nums[mid], nums[high] = nums[high], nums[mid]\n",
    "            high-=1 "
   ]
  },
  {
   "cell_type": "code",
   "execution_count": 8,
   "metadata": {},
   "outputs": [
    {
     "name": "stdout",
     "output_type": "stream",
     "text": [
      "[0, 0, 0, 0, 0, 1, 1, 1, 1, 2, 2, 2, 2, 2]\n"
     ]
    }
   ],
   "source": [
    "nums = [1, 2, 0, 2, 0, 1, 2, 0, 0, 1, 2, 2, 1, 0]\n",
    "dnf(nums)\n",
    "print(nums)"
   ]
  },
  {
   "cell_type": "code",
   "execution_count": null,
   "metadata": {},
   "outputs": [],
   "source": []
  }
 ],
 "metadata": {
  "kernelspec": {
   "display_name": "Python 3",
   "language": "python",
   "name": "python3"
  },
  "language_info": {
   "codemirror_mode": {
    "name": "ipython",
    "version": 3
   },
   "file_extension": ".py",
   "mimetype": "text/x-python",
   "name": "python",
   "nbconvert_exporter": "python",
   "pygments_lexer": "ipython3",
   "version": "3.9.6"
  }
 },
 "nbformat": 4,
 "nbformat_minor": 2
}
