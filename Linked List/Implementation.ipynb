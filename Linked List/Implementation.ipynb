{
 "cells": [
  {
   "cell_type": "markdown",
   "metadata": {},
   "source": [
    "# SINGLY LINKED LIST IMPLEMENTATION"
   ]
  },
  {
   "cell_type": "code",
   "execution_count": 1,
   "metadata": {},
   "outputs": [],
   "source": [
    "class Node:\n",
    "    def __init__(self, value=None):\n",
    "        self.val = value\n",
    "        self.next = None\n",
    "\n",
    "class LinkedList:\n",
    "    def __init__(self):\n",
    "        self.head = None\n",
    "    def insertAtEnd(self, value):\n",
    "        node = Node(value)\n",
    "        if self.head is None:\n",
    "            self.head=node\n",
    "        else:\n",
    "            itr = self.head\n",
    "            while itr.next:\n",
    "                itr=itr.next\n",
    "            itr.next=node\n",
    "    def insertAtHead(self, value):\n",
    "        node=Node(value)\n",
    "        if self.head is None:\n",
    "            self.head=node\n",
    "        else:\n",
    "            node.next = self.head\n",
    "            self.head = node\n",
    "    def deleteLast(self):\n",
    "        itr = self.head\n",
    "        if itr is None or itr.next is None:\n",
    "            self.head=None\n",
    "        else:\n",
    "            while itr.next.next:\n",
    "                itr=itr.next\n",
    "            itr.next=None\n",
    "    def deleteHead(self):\n",
    "        if self.head is None:\n",
    "            return\n",
    "        else:\n",
    "            self.head = self.head.next\n",
    "    def print(self):\n",
    "        itr = self.head\n",
    "        ll = ''\n",
    "        while itr:\n",
    "            ll+=str(itr.val)\n",
    "            ll+=\" -> \"\n",
    "            itr=itr.next\n",
    "        print(ll)"
   ]
  },
  {
   "cell_type": "code",
   "execution_count": 6,
   "metadata": {},
   "outputs": [
    {
     "name": "stdout",
     "output_type": "stream",
     "text": [
      "7 -> 6 -> 1 -> 2 -> 3 -> \n"
     ]
    }
   ],
   "source": [
    "ll = LinkedList()\n",
    "ll.insertAtEnd(1)\n",
    "ll.insertAtEnd(2)\n",
    "ll.insertAtEnd(3)\n",
    "ll.insertAtEnd(4)\n",
    "ll.insertAtEnd(5)\n",
    "ll.insertAtHead(6)\n",
    "ll.insertAtHead(7)\n",
    "ll.insertAtHead(8)\n",
    "ll.insertAtHead(9)\n",
    "ll.deleteHead()\n",
    "ll.deleteHead()\n",
    "ll.deleteLast()\n",
    "ll.deleteLast()\n",
    "ll.print()"
   ]
  },
  {
   "cell_type": "markdown",
   "metadata": {},
   "source": [
    "# DOUBLY LINKED LIST IMPLEMENTATION"
   ]
  },
  {
   "cell_type": "code",
   "execution_count": 19,
   "metadata": {},
   "outputs": [],
   "source": [
    "class DLLNode:\n",
    "    def __init__(self, value=None):\n",
    "        self.val = value\n",
    "        self.next = None\n",
    "        self.prev = None\n",
    "\n",
    "class DoublyLinkedList:\n",
    "    def __init__(self):\n",
    "        self.head = None\n",
    "        self.tail = None\n",
    "    def insertAtEnd(self, value):\n",
    "        node = DLLNode(value)\n",
    "        if self.head is None:\n",
    "            self.head=node\n",
    "            self.tail=self.head\n",
    "        else:\n",
    "            self.tail.next = node\n",
    "            node.prev = self.tail\n",
    "            self.tail = node\n",
    "    def insertAtHead(self, value):\n",
    "        node=DLLNode(value)\n",
    "        if self.head is None:\n",
    "            self.head=node\n",
    "            self.tail=self.head\n",
    "        else:\n",
    "            node.next = self.head\n",
    "            self.head.prev = node\n",
    "            self.head = node\n",
    "    def deleteLast(self):\n",
    "        if self.tail is None:\n",
    "            return\n",
    "        if self.tail == self.head:\n",
    "            self.head = self.tail = None\n",
    "        else:\n",
    "            node = self.tail.prev\n",
    "            self.tail.prev = None\n",
    "            node.next = None\n",
    "            self.tail = node\n",
    "    def deleteHead(self):\n",
    "        if self.head is None:\n",
    "            return\n",
    "        if self.head==self.tail:\n",
    "            self.head=self.tail=None\n",
    "        else:\n",
    "            node = self.head.next\n",
    "            self.head = node\n",
    "            node.prev = None\n",
    "    def printHtoT(self):\n",
    "        itr = self.head\n",
    "        ll = ''\n",
    "        while itr:\n",
    "            ll+=str(itr.val)\n",
    "            ll+=\" -> \"\n",
    "            itr=itr.next\n",
    "        print(ll)\n",
    "    def printTtoH(self):\n",
    "       itr = self.tail\n",
    "       ll = ''\n",
    "       while itr:\n",
    "           ll+=str(itr.val)\n",
    "           ll+=\" -> \"\n",
    "           itr=itr.prev\n",
    "       print(ll)"
   ]
  },
  {
   "cell_type": "code",
   "execution_count": 23,
   "metadata": {},
   "outputs": [
    {
     "name": "stdout",
     "output_type": "stream",
     "text": [
      "7 -> 6 -> 2 -> 3 -> \n",
      "3 -> 2 -> 6 -> 7 -> \n"
     ]
    }
   ],
   "source": [
    "ll = DoublyLinkedList()\n",
    "ll.insertAtEnd(1)\n",
    "ll.deleteHead()\n",
    "ll.deleteHead()\n",
    "ll.insertAtEnd(2)\n",
    "ll.insertAtEnd(3)\n",
    "ll.insertAtEnd(4)\n",
    "ll.insertAtEnd(5)\n",
    "ll.insertAtHead(6)\n",
    "ll.insertAtHead(7)\n",
    "ll.insertAtHead(8)\n",
    "ll.insertAtHead(9)\n",
    "ll.deleteHead()\n",
    "ll.deleteHead()\n",
    "ll.deleteLast()\n",
    "ll.deleteLast()\n",
    "ll.printHtoT()\n",
    "ll.printTtoH()"
   ]
  }
 ],
 "metadata": {
  "kernelspec": {
   "display_name": "Python 3",
   "language": "python",
   "name": "python3"
  },
  "language_info": {
   "codemirror_mode": {
    "name": "ipython",
    "version": 3
   },
   "file_extension": ".py",
   "mimetype": "text/x-python",
   "name": "python",
   "nbconvert_exporter": "python",
   "pygments_lexer": "ipython3",
   "version": "3.9.6"
  }
 },
 "nbformat": 4,
 "nbformat_minor": 2
}
