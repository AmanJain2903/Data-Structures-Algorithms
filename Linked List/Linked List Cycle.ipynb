{
 "cells": [
  {
   "cell_type": "markdown",
   "metadata": {},
   "source": [
    "# DETECT LOOP IN A LINKED LIST"
   ]
  },
  {
   "cell_type": "code",
   "execution_count": 24,
   "metadata": {},
   "outputs": [],
   "source": [
    "class Node:\n",
    "    def __init__(self, value=None):\n",
    "        self.val = value\n",
    "        self.next = None\n",
    "\n",
    "class LinkedList:\n",
    "    def __init__(self):\n",
    "        self.head = None\n",
    "    def insertAtEnd(self, value):\n",
    "        node = Node(value)\n",
    "        if self.head is None:\n",
    "            self.head=node\n",
    "        else:\n",
    "            itr = self.head\n",
    "            while itr.next:\n",
    "                itr=itr.next\n",
    "            itr.next=node\n",
    "    def insertAtHead(self, value):\n",
    "        node=Node(value)\n",
    "        if self.head is None:\n",
    "            self.head=node\n",
    "        else:\n",
    "            node.next = self.head\n",
    "            self.head = node\n",
    "    def deleteLast(self):\n",
    "        itr = self.head\n",
    "        if itr is None or itr.next is None:\n",
    "            self.head=None\n",
    "        else:\n",
    "            while itr.next.next:\n",
    "                itr=itr.next\n",
    "            itr.next=None\n",
    "    def deleteHead(self):\n",
    "        if self.head is None:\n",
    "            return\n",
    "        else:\n",
    "            self.head = self.head.next\n",
    "    def addCycle(self, k):\n",
    "        lastNode = self.head\n",
    "        while lastNode.next:\n",
    "            lastNode=lastNode.next\n",
    "        kNode = self.head\n",
    "        for _ in range(k-1):\n",
    "            kNode=kNode.next\n",
    "        lastNode.next=kNode\n",
    "    def print(self):\n",
    "        itr = self.head\n",
    "        ll = ''\n",
    "        visited = {}\n",
    "        while itr not in visited:\n",
    "            visited[itr]=1\n",
    "            ll+=str(itr.val)\n",
    "            ll+=\" -> \"\n",
    "            itr=itr.next\n",
    "        ll+=str(itr.val)\n",
    "        print(ll)"
   ]
  },
  {
   "cell_type": "code",
   "execution_count": 26,
   "metadata": {},
   "outputs": [
    {
     "name": "stdout",
     "output_type": "stream",
     "text": [
      "1 -> 2 -> 3 -> 4 -> 5 -> 6 -> 3\n"
     ]
    }
   ],
   "source": [
    "ll = LinkedList()\n",
    "ll.insertAtEnd(1)\n",
    "ll.insertAtEnd(2)\n",
    "ll.insertAtEnd(3)\n",
    "ll.insertAtEnd(4)\n",
    "ll.insertAtEnd(5)\n",
    "ll.insertAtEnd(6)\n",
    "ll.addCycle(3)\n",
    "ll.print()"
   ]
  },
  {
   "cell_type": "code",
   "execution_count": 27,
   "metadata": {},
   "outputs": [],
   "source": [
    "def detectCycle(ll):\n",
    "    s = f = ll.head\n",
    "    while f and f.next:\n",
    "        s = s.next\n",
    "        f = f.next.next\n",
    "        if s==f:\n",
    "            return True\n",
    "    return False"
   ]
  },
  {
   "cell_type": "code",
   "execution_count": 29,
   "metadata": {},
   "outputs": [
    {
     "data": {
      "text/plain": [
       "True"
      ]
     },
     "execution_count": 29,
     "metadata": {},
     "output_type": "execute_result"
    }
   ],
   "source": [
    "detectCycle(ll)"
   ]
  },
  {
   "cell_type": "code",
   "execution_count": 53,
   "metadata": {},
   "outputs": [],
   "source": [
    "def cycleStart(ll):\n",
    "    if detectCycle(ll) is False:\n",
    "        return None\n",
    "    s = ll.head.next\n",
    "    f = s.next\n",
    "    while s!=f:\n",
    "        s = s.next\n",
    "        f = f.next.next\n",
    "    s = ll.head\n",
    "    while s!=f:\n",
    "        s=s.next\n",
    "        f=f.next\n",
    "    return s"
   ]
  },
  {
   "cell_type": "code",
   "execution_count": 54,
   "metadata": {},
   "outputs": [
    {
     "data": {
      "text/plain": [
       "3"
      ]
     },
     "execution_count": 54,
     "metadata": {},
     "output_type": "execute_result"
    }
   ],
   "source": [
    "loopPoint = cycleStart(ll)\n",
    "loopPoint.val"
   ]
  },
  {
   "cell_type": "code",
   "execution_count": null,
   "metadata": {},
   "outputs": [],
   "source": []
  }
 ],
 "metadata": {
  "kernelspec": {
   "display_name": "Python 3",
   "language": "python",
   "name": "python3"
  },
  "language_info": {
   "codemirror_mode": {
    "name": "ipython",
    "version": 3
   },
   "file_extension": ".py",
   "mimetype": "text/x-python",
   "name": "python",
   "nbconvert_exporter": "python",
   "pygments_lexer": "ipython3",
   "version": "3.9.6"
  }
 },
 "nbformat": 4,
 "nbformat_minor": 2
}
