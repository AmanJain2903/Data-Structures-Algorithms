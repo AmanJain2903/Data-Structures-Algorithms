{
 "cells": [
  {
   "cell_type": "markdown",
   "metadata": {},
   "source": [
    "# INTERSECTION POINT OF LL"
   ]
  },
  {
   "cell_type": "code",
   "execution_count": 31,
   "metadata": {},
   "outputs": [],
   "source": [
    "class Node:\n",
    "    def __init__(self, value=None):\n",
    "        self.val = value\n",
    "        self.next = None\n",
    "\n",
    "class LinkedList:\n",
    "    def __init__(self):\n",
    "        self.head = None\n",
    "    def insertAtEnd(self, value):\n",
    "        node = Node(value)\n",
    "        if self.head is None:\n",
    "            self.head=node\n",
    "        else:\n",
    "            itr = self.head\n",
    "            while itr.next:\n",
    "                itr=itr.next\n",
    "            itr.next=node\n",
    "    def insertAtHead(self, value):\n",
    "        node=Node(value)\n",
    "        if self.head is None:\n",
    "            self.head=node\n",
    "        else:\n",
    "            node.next = self.head\n",
    "            self.head = node\n",
    "    def deleteLast(self):\n",
    "        itr = self.head\n",
    "        if itr is None or itr.next is None:\n",
    "            self.head=None\n",
    "        else:\n",
    "            while itr.next.next:\n",
    "                itr=itr.next\n",
    "            itr.next=None\n",
    "    def deleteHead(self):\n",
    "        if self.head is None:\n",
    "            return\n",
    "        else:\n",
    "            self.head = self.head.next\n",
    "    def print(self):\n",
    "        itr = self.head\n",
    "        ll = ''\n",
    "        while itr:\n",
    "            ll+=str(itr.val)\n",
    "            ll+=\" -> \"\n",
    "            itr=itr.next\n",
    "        print(ll[:-3])\n",
    "    def addLL(self, l):\n",
    "        itr = self.head\n",
    "        while itr.next:\n",
    "            itr=itr.next\n",
    "        itr.next = l.head\n",
    "    def length(self):\n",
    "        l = 0\n",
    "        itr = self.head\n",
    "        while itr:\n",
    "            l+=1\n",
    "            itr=itr.next\n",
    "        return l\n",
    "\n"
   ]
  },
  {
   "cell_type": "code",
   "execution_count": 32,
   "metadata": {},
   "outputs": [
    {
     "name": "stdout",
     "output_type": "stream",
     "text": [
      "6 -> 7 -> 8 -> 9 \n"
     ]
    }
   ],
   "source": [
    "ll = LinkedList()\n",
    "ll.insertAtEnd(6)\n",
    "ll.insertAtEnd(7)\n",
    "ll.insertAtEnd(8)\n",
    "ll.insertAtEnd(9)\n",
    "ll.print()"
   ]
  },
  {
   "cell_type": "code",
   "execution_count": 33,
   "metadata": {},
   "outputs": [
    {
     "name": "stdout",
     "output_type": "stream",
     "text": [
      "3 -> 4 -> 5 \n"
     ]
    }
   ],
   "source": [
    "ll1 = LinkedList()\n",
    "ll1.insertAtEnd(3)\n",
    "ll1.insertAtEnd(4)\n",
    "ll1.insertAtEnd(5)\n",
    "ll1.print()"
   ]
  },
  {
   "cell_type": "code",
   "execution_count": 34,
   "metadata": {},
   "outputs": [
    {
     "name": "stdout",
     "output_type": "stream",
     "text": [
      "1 -> 2 -> 3 -> 4 -> 5 \n"
     ]
    }
   ],
   "source": [
    "ll2 = LinkedList()\n",
    "ll2.insertAtEnd(1)\n",
    "ll2.insertAtEnd(2)\n",
    "ll2.insertAtEnd(3)\n",
    "ll2.insertAtEnd(4)\n",
    "ll2.insertAtEnd(5)\n",
    "ll2.print()"
   ]
  },
  {
   "cell_type": "code",
   "execution_count": 35,
   "metadata": {},
   "outputs": [
    {
     "name": "stdout",
     "output_type": "stream",
     "text": [
      "3 -> 4 -> 5 -> 6 -> 7 -> 8 -> 9 \n",
      "1 -> 2 -> 3 -> 4 -> 5 -> 6 -> 7 -> 8 -> 9 \n"
     ]
    }
   ],
   "source": [
    "ll1.addLL(ll)\n",
    "ll2.addLL(ll)\n",
    "ll1.print()\n",
    "ll2.print()"
   ]
  },
  {
   "cell_type": "code",
   "execution_count": 40,
   "metadata": {},
   "outputs": [],
   "source": [
    "def intersection(ll1, ll2):\n",
    "    l1 = ll1.length()\n",
    "    l2 = ll2.length()\n",
    "    k = l1-l2\n",
    "    itr1 = ll1.head\n",
    "    itr2 = ll2.head\n",
    "    for i in range(k):\n",
    "        itr1 = itr1.next\n",
    "    while itr1!=itr2:\n",
    "        itr1 = itr1.next\n",
    "        itr2 = itr2.next\n",
    "    return itr1\n"
   ]
  },
  {
   "cell_type": "code",
   "execution_count": 41,
   "metadata": {},
   "outputs": [
    {
     "name": "stdout",
     "output_type": "stream",
     "text": [
      "6\n"
     ]
    }
   ],
   "source": [
    "l1 = ll1.length()\n",
    "l2 = ll2.length()\n",
    "if l1>l2:\n",
    "    i = intersection(ll1, ll2)\n",
    "else:\n",
    "    i = intersection(ll2, ll1)\n",
    "print(i.val)"
   ]
  },
  {
   "cell_type": "code",
   "execution_count": null,
   "metadata": {},
   "outputs": [],
   "source": []
  }
 ],
 "metadata": {
  "kernelspec": {
   "display_name": "Python 3",
   "language": "python",
   "name": "python3"
  },
  "language_info": {
   "codemirror_mode": {
    "name": "ipython",
    "version": 3
   },
   "file_extension": ".py",
   "mimetype": "text/x-python",
   "name": "python",
   "nbconvert_exporter": "python",
   "pygments_lexer": "ipython3",
   "version": "3.9.6"
  }
 },
 "nbformat": 4,
 "nbformat_minor": 2
}
