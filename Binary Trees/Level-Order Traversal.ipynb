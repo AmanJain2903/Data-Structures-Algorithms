{
 "cells": [
  {
   "cell_type": "markdown",
   "metadata": {},
   "source": [
    "# LEVEL-ORDER TRAVERSAL OF A BINARY TREE"
   ]
  },
  {
   "cell_type": "code",
   "execution_count": 2,
   "metadata": {},
   "outputs": [],
   "source": [
    "class TreeNode:\n",
    "    def __init__(self, val):\n",
    "        self.val = val\n",
    "        self.left = None\n",
    "        self.right = None\n",
    "class BT:\n",
    "    def __init__(self):\n",
    "        self.root = None\n",
    "    def insertVal(self, val):\n",
    "        node = TreeNode(val)\n",
    "        if self.root is None:\n",
    "            self.root = node\n",
    "            return\n",
    "        queue = [self.root]\n",
    "        while queue:\n",
    "            curr = queue.pop(0)\n",
    "            if curr.left is None:\n",
    "                curr.left=node\n",
    "                return\n",
    "            else:\n",
    "                queue.append(curr.left)\n",
    "            if curr.right is None:\n",
    "                curr.right = node\n",
    "                return\n",
    "            else:\n",
    "                queue.append(curr.right)"
   ]
  },
  {
   "cell_type": "code",
   "execution_count": 3,
   "metadata": {},
   "outputs": [],
   "source": [
    "tree = BT()\n",
    "tree.insertVal(1)\n",
    "tree.insertVal(2)\n",
    "tree.insertVal(3)\n",
    "tree.insertVal(4)\n",
    "tree.insertVal(5)\n",
    "tree.insertVal(6)\n",
    "tree.insertVal(7)"
   ]
  },
  {
   "cell_type": "code",
   "execution_count": 5,
   "metadata": {},
   "outputs": [
    {
     "name": "stdout",
     "output_type": "stream",
     "text": [
      "[[1], [2, 3], [4, 5, 6, 7]]\n"
     ]
    }
   ],
   "source": [
    "def levelOrder(node):\n",
    "    levelTraversal = []\n",
    "    queue = [node]\n",
    "    while queue:\n",
    "        level = []\n",
    "        for _ in range(len(queue)):\n",
    "            node = queue.pop(0)\n",
    "            if node:\n",
    "                level.append(node.val)\n",
    "                queue.append(node.left)\n",
    "                queue.append(node.right)\n",
    "        if level:\n",
    "            levelTraversal.append(level)\n",
    "    return levelTraversal\n",
    "print(levelOrder(tree.root))"
   ]
  }
 ],
 "metadata": {
  "kernelspec": {
   "display_name": "Python 3",
   "language": "python",
   "name": "python3"
  },
  "language_info": {
   "codemirror_mode": {
    "name": "ipython",
    "version": 3
   },
   "file_extension": ".py",
   "mimetype": "text/x-python",
   "name": "python",
   "nbconvert_exporter": "python",
   "pygments_lexer": "ipython3",
   "version": "3.9.6"
  }
 },
 "nbformat": 4,
 "nbformat_minor": 2
}
