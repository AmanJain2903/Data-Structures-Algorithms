{
 "cells": [
  {
   "cell_type": "markdown",
   "metadata": {},
   "source": [
    "# VERTICAL ORDER TRAVERSAL OF A BINARY TREE"
   ]
  },
  {
   "cell_type": "code",
   "execution_count": 14,
   "metadata": {},
   "outputs": [],
   "source": [
    "class TreeNode:\n",
    "    def __init__(self, val):\n",
    "        self.val = val\n",
    "        self.left = None\n",
    "        self.right = None\n",
    "class BT:\n",
    "    def __init__(self):\n",
    "        self.root = None\n",
    "    def insertVal(self, val):\n",
    "        node = TreeNode(val)\n",
    "        if self.root is None:\n",
    "            self.root = node\n",
    "            return\n",
    "        queue = [self.root]\n",
    "        while queue:\n",
    "            curr = queue.pop(0)\n",
    "            if curr.left is None:\n",
    "                curr.left=node\n",
    "                return\n",
    "            else:\n",
    "                queue.append(curr.left)\n",
    "            if curr.right is None:\n",
    "                curr.right = node\n",
    "                return\n",
    "            else:\n",
    "                queue.append(curr.right)"
   ]
  },
  {
   "cell_type": "code",
   "execution_count": 15,
   "metadata": {},
   "outputs": [],
   "source": [
    "tree = BT()\n",
    "tree.insertVal(1)\n",
    "tree.insertVal(2)\n",
    "tree.insertVal(3)\n",
    "tree.insertVal(4)\n",
    "tree.insertVal(5)\n",
    "tree.insertVal(6)\n",
    "tree.insertVal(7)"
   ]
  },
  {
   "cell_type": "code",
   "execution_count": 16,
   "metadata": {},
   "outputs": [],
   "source": [
    "def verticalOrder(node, columnMap = {}):\n",
    "    minn = maxx = None\n",
    "    if node is None:\n",
    "        return minn, maxx, columnMap\n",
    "    queue = [(node, 0, 0)]\n",
    "    while queue:\n",
    "        for _ in range(len(queue)):\n",
    "            top = queue.pop(0)\n",
    "            topNode = top[0]\n",
    "            row = top[1]\n",
    "            col = top[2]\n",
    "            if topNode:\n",
    "                if col not in columnMap:\n",
    "                    columnMap[col] = []\n",
    "                columnMap[col].append((row, topNode.val))\n",
    "                if minn==maxx==None:\n",
    "                    minn=maxx=col\n",
    "                else:\n",
    "                    minn = min(minn, col)\n",
    "                    maxx = max(maxx, col)\n",
    "                queue.append((topNode.left, row+1, col-1))\n",
    "                queue.append((topNode.right, row+1, col+1))\n",
    "    return minn, maxx, columnMap"
   ]
  },
  {
   "cell_type": "code",
   "execution_count": 17,
   "metadata": {},
   "outputs": [
    {
     "name": "stdout",
     "output_type": "stream",
     "text": [
      "[[4], [2], [1, 5, 6], [3], [7]]\n"
     ]
    }
   ],
   "source": [
    "minn, maxx, columnMap = verticalOrder(tree.root)\n",
    "verticalTraversal = []\n",
    "for i in range(minn, maxx+1):\n",
    "    level = sorted(columnMap[i])\n",
    "    levelNodes = []\n",
    "    for l in level:\n",
    "        levelNodes.append(l[1])\n",
    "    verticalTraversal.append(levelNodes)\n",
    "print(verticalTraversal)"
   ]
  }
 ],
 "metadata": {
  "kernelspec": {
   "display_name": "Python 3",
   "language": "python",
   "name": "python3"
  },
  "language_info": {
   "codemirror_mode": {
    "name": "ipython",
    "version": 3
   },
   "file_extension": ".py",
   "mimetype": "text/x-python",
   "name": "python",
   "nbconvert_exporter": "python",
   "pygments_lexer": "ipython3",
   "version": "3.9.6"
  }
 },
 "nbformat": 4,
 "nbformat_minor": 2
}
