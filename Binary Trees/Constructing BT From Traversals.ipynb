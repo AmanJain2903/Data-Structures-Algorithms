{
 "cells": [
  {
   "cell_type": "markdown",
   "metadata": {},
   "source": [
    "# BINARY TREE FROM DFS TRAVERSALS"
   ]
  },
  {
   "cell_type": "code",
   "execution_count": 1,
   "metadata": {},
   "outputs": [],
   "source": [
    "class TreeNode:\n",
    "    def __init__(self, val):\n",
    "        self.val = val\n",
    "        self.left = None\n",
    "        self.right = None\n",
    "class BT:\n",
    "    def __init__(self):\n",
    "        self.root = None\n",
    "    def insertVal(self, val):\n",
    "        node = TreeNode(val)\n",
    "        if self.root is None:\n",
    "            self.root = node\n",
    "            return\n",
    "        queue = [self.root]\n",
    "        while queue:\n",
    "            curr = queue.pop(0)\n",
    "            if curr.left is None:\n",
    "                curr.left=node\n",
    "                return\n",
    "            else:\n",
    "                queue.append(curr.left)\n",
    "            if curr.right is None:\n",
    "                curr.right = node\n",
    "                return\n",
    "            else:\n",
    "                queue.append(curr.right)\n",
    "    def preOrder(self, node, pre=[]):\n",
    "        if node is None:\n",
    "            return None\n",
    "        pre.append(node.val)\n",
    "        self.preOrder(node.left, pre)\n",
    "        self.preOrder(node.right, pre)\n",
    "        return pre\n",
    "    def inOrder(self, node, i=[]):\n",
    "        if node is None:\n",
    "            return None\n",
    "        self.inOrder(node.left, i)\n",
    "        i.append(node.val)\n",
    "        self.inOrder(node.right, i)\n",
    "        return i\n",
    "    def postOrder(self, node, post=[]):\n",
    "        if node is None:\n",
    "            return None\n",
    "        self.postOrder(node.left, post)\n",
    "        self.postOrder(node.right, post)\n",
    "        post.append(node.val)\n",
    "        return post\n",
    "    def levelOrder(self, node):\n",
    "        levelTraversal = []\n",
    "        queue = [node]\n",
    "        while queue:\n",
    "            level = []\n",
    "            for _ in range(len(queue)):\n",
    "                node = queue.pop(0)\n",
    "                if node:\n",
    "                    level.append(node.val)\n",
    "                    queue.append(node.left)\n",
    "                    queue.append(node.right)\n",
    "            if level:\n",
    "                levelTraversal.append(level)\n",
    "        return levelTraversal\n",
    "\n",
    "       "
   ]
  },
  {
   "cell_type": "markdown",
   "metadata": {},
   "source": [
    "# FROM PRE-ORDER AND IN-ORDER"
   ]
  },
  {
   "cell_type": "code",
   "execution_count": 2,
   "metadata": {},
   "outputs": [],
   "source": [
    "def constructFromPre(preOrder, inOrder):\n",
    "    if len(preOrder)==0:\n",
    "        return None\n",
    "    root = TreeNode(preOrder[0])\n",
    "    index = inOrder.index(preOrder[0])\n",
    "    root.left = constructFromPre(preOrder[1:1+index], inOrder[:index])\n",
    "    root.right = constructFromPre(preOrder[index+1:], inOrder[index+1:])\n",
    "    return root"
   ]
  },
  {
   "cell_type": "code",
   "execution_count": 3,
   "metadata": {},
   "outputs": [
    {
     "name": "stdout",
     "output_type": "stream",
     "text": [
      "[1, 2, 4, 5, 3, 6, 7]\n",
      "[4, 2, 5, 1, 6, 3, 7]\n",
      "[4, 5, 2, 6, 7, 3, 1]\n"
     ]
    }
   ],
   "source": [
    "preOrder = [1, 2, 4, 5, 3, 6, 7]\n",
    "inOrder = [4, 2, 5, 1, 6, 3, 7]\n",
    "node = constructFromPre(preOrder, inOrder)\n",
    "tree = BT()\n",
    "print(tree.preOrder(node))\n",
    "print(tree.inOrder(node))\n",
    "print(tree.postOrder(node))"
   ]
  },
  {
   "cell_type": "markdown",
   "metadata": {},
   "source": [
    "# FROM POST-ORDER AND IN-ORDER"
   ]
  },
  {
   "cell_type": "code",
   "execution_count": 4,
   "metadata": {},
   "outputs": [],
   "source": [
    "def constructFromPost(postOrder, inOrder):\n",
    "    if len(postOrder)==0:\n",
    "        return None\n",
    "    root = TreeNode(postOrder[-1])\n",
    "    index = inOrder.index(postOrder[-1])\n",
    "    root.left = constructFromPost(postOrder[:index], inOrder[:index])\n",
    "    root.right = constructFromPost(postOrder[index:-1], inOrder[index+1:])\n",
    "    return root"
   ]
  },
  {
   "cell_type": "code",
   "execution_count": 9,
   "metadata": {},
   "outputs": [
    {
     "name": "stdout",
     "output_type": "stream",
     "text": [
      "[1, 2, 4, 5, 3, 6, 7]\n",
      "[4, 2, 5, 1, 6, 3, 7]\n",
      "[4, 5, 2, 6, 7, 3, 1]\n"
     ]
    }
   ],
   "source": [
    "postOrder = [4, 5, 2, 6, 7, 3, 1]\n",
    "inOrder = [4, 2, 5, 1, 6, 3, 7]\n",
    "node = constructFromPost(postOrder, inOrder)\n",
    "tree = BT()\n",
    "print(tree.preOrder(node, []))\n",
    "print(tree.inOrder(node, []))\n",
    "print(tree.postOrder(node, []))"
   ]
  }
 ],
 "metadata": {
  "kernelspec": {
   "display_name": "Python 3",
   "language": "python",
   "name": "python3"
  },
  "language_info": {
   "codemirror_mode": {
    "name": "ipython",
    "version": 3
   },
   "file_extension": ".py",
   "mimetype": "text/x-python",
   "name": "python",
   "nbconvert_exporter": "python",
   "pygments_lexer": "ipython3",
   "version": "3.9.6"
  }
 },
 "nbformat": 4,
 "nbformat_minor": 2
}
