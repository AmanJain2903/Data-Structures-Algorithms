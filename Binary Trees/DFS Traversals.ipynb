{
 "cells": [
  {
   "cell_type": "markdown",
   "metadata": {},
   "source": [
    "# DFS TRAVERSALS OF A BINARY TREE"
   ]
  },
  {
   "cell_type": "code",
   "execution_count": 1,
   "metadata": {},
   "outputs": [],
   "source": [
    "class TreeNode:\n",
    "    def __init__(self, val):\n",
    "        self.val = val\n",
    "        self.left = None\n",
    "        self.right = None\n",
    "class BT:\n",
    "    def __init__(self):\n",
    "        self.root = None\n",
    "    def insertVal(self, val):\n",
    "        node = TreeNode(val)\n",
    "        if self.root is None:\n",
    "            self.root = node\n",
    "            return\n",
    "        queue = [self.root]\n",
    "        while queue:\n",
    "            curr = queue.pop(0)\n",
    "            if curr.left is None:\n",
    "                curr.left=node\n",
    "                return\n",
    "            else:\n",
    "                queue.append(curr.left)\n",
    "            if curr.right is None:\n",
    "                curr.right = node\n",
    "                return\n",
    "            else:\n",
    "                queue.append(curr.right)"
   ]
  },
  {
   "cell_type": "code",
   "execution_count": 7,
   "metadata": {},
   "outputs": [],
   "source": [
    "tree = BT()\n",
    "tree.insertVal(1)\n",
    "tree.insertVal(2)\n",
    "tree.insertVal(3)\n",
    "tree.insertVal(4)\n",
    "tree.insertVal(5)\n",
    "tree.insertVal(6)\n",
    "tree.insertVal(7)"
   ]
  },
  {
   "cell_type": "markdown",
   "metadata": {},
   "source": [
    "# PRE-ORDER"
   ]
  },
  {
   "cell_type": "code",
   "execution_count": 9,
   "metadata": {},
   "outputs": [
    {
     "name": "stdout",
     "output_type": "stream",
     "text": [
      "[1, 2, 4, 5, 3, 6, 7]\n"
     ]
    }
   ],
   "source": [
    "def preOrder(node, pre=[]):\n",
    "    if node is None:\n",
    "        return None\n",
    "    pre.append(node.val)\n",
    "    preOrder(node.left, pre)\n",
    "    preOrder(node.right, pre)\n",
    "    return pre\n",
    "print(preOrder(tree.root))       "
   ]
  },
  {
   "cell_type": "markdown",
   "metadata": {},
   "source": [
    "# IN-ORDER"
   ]
  },
  {
   "cell_type": "code",
   "execution_count": 10,
   "metadata": {},
   "outputs": [
    {
     "name": "stdout",
     "output_type": "stream",
     "text": [
      "[4, 2, 5, 1, 6, 3, 7]\n"
     ]
    }
   ],
   "source": [
    "def inOrder(node, i=[]):\n",
    "    if node is None:\n",
    "        return None\n",
    "    inOrder(node.left, i)\n",
    "    i.append(node.val)\n",
    "    inOrder(node.right, i)\n",
    "    return i\n",
    "print(inOrder(tree.root))"
   ]
  },
  {
   "cell_type": "markdown",
   "metadata": {},
   "source": [
    "# POST-ORDER"
   ]
  },
  {
   "cell_type": "code",
   "execution_count": 11,
   "metadata": {},
   "outputs": [
    {
     "name": "stdout",
     "output_type": "stream",
     "text": [
      "[4, 5, 2, 6, 7, 3, 1]\n"
     ]
    }
   ],
   "source": [
    "def postOrder(node, post=[]):\n",
    "    if node is None:\n",
    "        return None\n",
    "    postOrder(node.left, post)\n",
    "    postOrder(node.right, post)\n",
    "    post.append(node.val)\n",
    "    return post\n",
    "print(postOrder(tree.root))"
   ]
  }
 ],
 "metadata": {
  "kernelspec": {
   "display_name": "Python 3",
   "language": "python",
   "name": "python3"
  },
  "language_info": {
   "codemirror_mode": {
    "name": "ipython",
    "version": 3
   },
   "file_extension": ".py",
   "mimetype": "text/x-python",
   "name": "python",
   "nbconvert_exporter": "python",
   "pygments_lexer": "ipython3",
   "version": "3.9.6"
  }
 },
 "nbformat": 4,
 "nbformat_minor": 2
}
