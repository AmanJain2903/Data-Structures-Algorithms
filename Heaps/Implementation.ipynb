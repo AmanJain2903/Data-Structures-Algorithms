{
 "cells": [
  {
   "cell_type": "markdown",
   "metadata": {},
   "source": [
    "# HEAPS USING ARRAYS IN PYTHON"
   ]
  },
  {
   "cell_type": "code",
   "execution_count": 69,
   "metadata": {},
   "outputs": [],
   "source": [
    "class Heap:\n",
    "    def __init__(self, isMax):\n",
    "        self.heap = []\n",
    "        self.isMax = isMax\n",
    "    def getParent(self, index):\n",
    "        if index%2==0:\n",
    "            return index//2-1\n",
    "        else:\n",
    "            return index//2\n",
    "    def heapify(self, index, n=None, arr=None):\n",
    "        if arr is None:\n",
    "            arr = self.heap\n",
    "            n = len(arr)\n",
    "        lowest=index\n",
    "        left = index*2 + 1\n",
    "        right = left + 1\n",
    "        if left<n and arr[left]<arr[lowest]:\n",
    "            lowest = left\n",
    "        if right<n and arr[right]<arr[lowest]:\n",
    "            lowest = right\n",
    "        if lowest!=index:\n",
    "            arr[index], arr[lowest] = arr[lowest], arr[index]\n",
    "            self.heapify(lowest, n, arr)\n",
    "    def push(self, val):\n",
    "        if self.isMax==1:\n",
    "            val*=-1\n",
    "        self.heap.append(val)\n",
    "        index = len(self.heap)-1\n",
    "        parent = self.getParent(index)\n",
    "        while parent>=0 and self.heap[index]<self.heap[parent]:\n",
    "            self.heap[parent], self.heap[index] = self.heap[index], self.heap[parent]\n",
    "            index = parent\n",
    "            parent = self.getParent(index)\n",
    "    def top(self):\n",
    "        return self.heap[0]\n",
    "    def pop(self):\n",
    "        top = self.heap[0]\n",
    "        if self.isMax==1:\n",
    "            top*=-1\n",
    "        self.heap[0], self.heap[-1] = self.heap[-1], self.heap[0]\n",
    "        self.heap = self.heap[:-1]\n",
    "        self.heapify(0)\n",
    "        return top"
   ]
  },
  {
   "cell_type": "markdown",
   "metadata": {},
   "source": [
    "# MIN-HEAP"
   ]
  },
  {
   "cell_type": "code",
   "execution_count": 70,
   "metadata": {},
   "outputs": [
    {
     "name": "stdout",
     "output_type": "stream",
     "text": [
      "1\n",
      "-1\n",
      "0\n"
     ]
    }
   ],
   "source": [
    "minHeap = Heap(0)\n",
    "minHeap.push(2)\n",
    "minHeap.push(1)\n",
    "minHeap.push(3)\n",
    "print(minHeap.pop())\n",
    "minHeap.push(0)\n",
    "minHeap.push(-1)\n",
    "minHeap.push(1)\n",
    "print(minHeap.pop())\n",
    "minHeap.push(4)\n",
    "minHeap.push(5)\n",
    "print(minHeap.pop())"
   ]
  },
  {
   "cell_type": "markdown",
   "metadata": {},
   "source": [
    "# MAX-HEAP"
   ]
  },
  {
   "cell_type": "code",
   "execution_count": 71,
   "metadata": {},
   "outputs": [
    {
     "name": "stdout",
     "output_type": "stream",
     "text": [
      "3\n",
      "2\n",
      "5\n"
     ]
    }
   ],
   "source": [
    "maxHeap = Heap(1)\n",
    "maxHeap.push(2)\n",
    "maxHeap.push(1)\n",
    "maxHeap.push(3)\n",
    "print(maxHeap.pop())\n",
    "maxHeap.push(0)\n",
    "maxHeap.push(-1)\n",
    "maxHeap.push(1)\n",
    "print(maxHeap.pop())\n",
    "maxHeap.push(4)\n",
    "maxHeap.push(5)\n",
    "print(maxHeap.pop())"
   ]
  },
  {
   "cell_type": "markdown",
   "metadata": {},
   "source": [
    "# HEAPS CLASS's HEAPIFY FUNCTION USED TO HEAPIFY ARRAY"
   ]
  },
  {
   "cell_type": "code",
   "execution_count": 91,
   "metadata": {},
   "outputs": [
    {
     "name": "stdout",
     "output_type": "stream",
     "text": [
      "[4, 2, 5, 7, 1, 3, 2, 9, 2]\n"
     ]
    }
   ],
   "source": [
    "arr = [4, 2, 5, 7, 1, 3, 2, 9, 2]\n",
    "heapInstance = Heap(0)\n",
    "for i in range(len(arr)//2, -1, -1):\n",
    "    heapInstance.heapify(i, arr)\n",
    "print(arr)"
   ]
  }
 ],
 "metadata": {
  "kernelspec": {
   "display_name": "Python 3",
   "language": "python",
   "name": "python3"
  },
  "language_info": {
   "codemirror_mode": {
    "name": "ipython",
    "version": 3
   },
   "file_extension": ".py",
   "mimetype": "text/x-python",
   "name": "python",
   "nbconvert_exporter": "python",
   "pygments_lexer": "ipython3",
   "version": "3.9.6"
  }
 },
 "nbformat": 4,
 "nbformat_minor": 2
}
