{
 "cells": [
  {
   "cell_type": "markdown",
   "metadata": {},
   "source": [
    "# HEAPIFY AN ARRAY INTO MAX HEAP"
   ]
  },
  {
   "cell_type": "code",
   "execution_count": 6,
   "metadata": {},
   "outputs": [],
   "source": [
    "def maxHeapify(index, n, arr):\n",
    "    largest = index\n",
    "    left = index*2 + 1\n",
    "    right = left+1\n",
    "    if left<n and arr[left]>arr[largest]:\n",
    "        largest=left\n",
    "    if right<n and arr[right]>arr[largest]:\n",
    "        largest = right\n",
    "    if largest!=index:\n",
    "        arr[largest], arr[index] = arr[index], arr[largest]\n",
    "        maxHeapify(largest, n, arr)"
   ]
  },
  {
   "cell_type": "code",
   "execution_count": 7,
   "metadata": {},
   "outputs": [
    {
     "name": "stdout",
     "output_type": "stream",
     "text": [
      "[9, 7, 8, 5, 1, 2, 2, 3]\n"
     ]
    }
   ],
   "source": [
    "arr = [3, 5, 2, 7, 1, 2, 8, 9]\n",
    "n = len(arr)\n",
    "for i in range(n//2-1, -1, -1):\n",
    "    maxHeapify(i, n, arr)\n",
    "print(arr)"
   ]
  },
  {
   "cell_type": "markdown",
   "metadata": {},
   "source": [
    "# HEAPIFY AN ARRAY INTO MIN HEAP"
   ]
  },
  {
   "cell_type": "code",
   "execution_count": 8,
   "metadata": {},
   "outputs": [],
   "source": [
    "def minHeapify(index, n, arr):\n",
    "    lowest = index\n",
    "    left = index*2 + 1\n",
    "    right = left+1\n",
    "    if left<n and arr[left]<arr[lowest]:\n",
    "        lowest=left\n",
    "    if right<n and arr[right]<arr[lowest]:\n",
    "        lowest = right\n",
    "    if lowest!=index:\n",
    "        arr[lowest], arr[index] = arr[index], arr[lowest]\n",
    "        minHeapify(lowest, n, arr)"
   ]
  },
  {
   "cell_type": "code",
   "execution_count": 9,
   "metadata": {},
   "outputs": [
    {
     "name": "stdout",
     "output_type": "stream",
     "text": [
      "[1, 3, 2, 7, 5, 2, 8, 9]\n"
     ]
    }
   ],
   "source": [
    "arr = [3, 5, 2, 7, 1, 2, 8, 9]\n",
    "n = len(arr)\n",
    "for i in range(n//2-1, -1, -1):\n",
    "    minHeapify(i, n, arr)\n",
    "print(arr)"
   ]
  }
 ],
 "metadata": {
  "kernelspec": {
   "display_name": "Python 3",
   "language": "python",
   "name": "python3"
  },
  "language_info": {
   "codemirror_mode": {
    "name": "ipython",
    "version": 3
   },
   "file_extension": ".py",
   "mimetype": "text/x-python",
   "name": "python",
   "nbconvert_exporter": "python",
   "pygments_lexer": "ipython3",
   "version": "3.9.6"
  }
 },
 "nbformat": 4,
 "nbformat_minor": 2
}
