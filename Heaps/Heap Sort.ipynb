{
 "cells": [
  {
   "cell_type": "markdown",
   "metadata": {},
   "source": [
    "# HEAP SORT"
   ]
  },
  {
   "cell_type": "code",
   "execution_count": 2,
   "metadata": {},
   "outputs": [],
   "source": [
    "def heapify(index, n, arr):\n",
    "    largest = index\n",
    "    left = index*2 + 1\n",
    "    right = left+1\n",
    "    if left<n and arr[left]>arr[largest]:\n",
    "        largest=left\n",
    "    if right<n and arr[right]>arr[largest]:\n",
    "        largest = right\n",
    "    if largest!=index:\n",
    "        arr[largest], arr[index] = arr[index], arr[largest]\n",
    "        heapify(largest, n, arr)\n",
    "def heapSort(arr):\n",
    "    n = len(arr)\n",
    "    for i in range(n//2, -1, -1):\n",
    "        heapify(i, n, arr)\n",
    "    for i in range(n-1, 0, -1):\n",
    "        arr[i], arr[0] = arr[0], arr[i]\n",
    "        heapify(0, i, arr)"
   ]
  },
  {
   "cell_type": "code",
   "execution_count": 3,
   "metadata": {},
   "outputs": [
    {
     "data": {
      "text/plain": [
       "[1, 2, 3, 3, 4, 5, 6, 8, 9]"
      ]
     },
     "execution_count": 3,
     "metadata": {},
     "output_type": "execute_result"
    }
   ],
   "source": [
    "arr = [5, 3, 1, 6, 8, 4, 9, 2, 3]\n",
    "heapSort(arr)\n",
    "arr"
   ]
  }
 ],
 "metadata": {
  "kernelspec": {
   "display_name": "Python 3",
   "language": "python",
   "name": "python3"
  },
  "language_info": {
   "codemirror_mode": {
    "name": "ipython",
    "version": 3
   },
   "file_extension": ".py",
   "mimetype": "text/x-python",
   "name": "python",
   "nbconvert_exporter": "python",
   "pygments_lexer": "ipython3",
   "version": "3.9.6"
  }
 },
 "nbformat": 4,
 "nbformat_minor": 2
}
