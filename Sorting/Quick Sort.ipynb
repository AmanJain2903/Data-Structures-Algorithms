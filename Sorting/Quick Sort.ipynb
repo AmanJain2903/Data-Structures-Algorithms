{
 "cells": [
  {
   "cell_type": "markdown",
   "metadata": {},
   "source": [
    "# QUICK SORT"
   ]
  },
  {
   "cell_type": "code",
   "execution_count": 3,
   "metadata": {},
   "outputs": [],
   "source": [
    "def partition(nums, low, high):\n",
    "    leftMode = True\n",
    "    while low<high:\n",
    "        if nums[low]>nums[high]:\n",
    "            nums[low], nums[high] = nums[high], nums[low]\n",
    "            leftMode = not(leftMode)\n",
    "        if leftMode:\n",
    "            low+=1\n",
    "        else:\n",
    "            high-=1\n",
    "    return low\n",
    "def quickSort(nums, low, high):\n",
    "    if low<high:\n",
    "        pi = partition(nums, low, high)\n",
    "        quickSort(nums, low, pi-1)\n",
    "        quickSort(nums, pi+1, high)"
   ]
  },
  {
   "cell_type": "code",
   "execution_count": 4,
   "metadata": {},
   "outputs": [
    {
     "name": "stdout",
     "output_type": "stream",
     "text": [
      "[-12, -3, -1, -1, 0, 0, 10, 12, 12, 13]\n"
     ]
    }
   ],
   "source": [
    "nums = [12, 0, 0, -1, -12, 13, 10, -3, -1, 12]\n",
    "quickSort(nums, 0, len(nums)-1)\n",
    "print(nums)"
   ]
  }
 ],
 "metadata": {
  "kernelspec": {
   "display_name": "Python 3",
   "language": "python",
   "name": "python3"
  },
  "language_info": {
   "codemirror_mode": {
    "name": "ipython",
    "version": 3
   },
   "file_extension": ".py",
   "mimetype": "text/x-python",
   "name": "python",
   "nbconvert_exporter": "python",
   "pygments_lexer": "ipython3",
   "version": "3.9.6"
  }
 },
 "nbformat": 4,
 "nbformat_minor": 2
}
