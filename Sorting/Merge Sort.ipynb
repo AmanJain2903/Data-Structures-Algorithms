{
 "cells": [
  {
   "cell_type": "markdown",
   "metadata": {},
   "source": [
    "# MERGE SORT"
   ]
  },
  {
   "cell_type": "code",
   "execution_count": 2,
   "metadata": {},
   "outputs": [],
   "source": [
    "def merge(left, right):\n",
    "    i = j = 0\n",
    "    nl = len(left)\n",
    "    nr = len(right)\n",
    "    result = []\n",
    "    while i<nl and j<nr:\n",
    "        if left[i]<=right[j]:\n",
    "            result.append(left[i])\n",
    "            i+=1\n",
    "        else:\n",
    "            result.append(right[j])\n",
    "            j+=1\n",
    "    while i<nl:\n",
    "        result.append(left[i])\n",
    "        i+=1\n",
    "    while j<nr:\n",
    "        result.append(right[j])\n",
    "        j+=1\n",
    "    return result\n",
    "def mergeSort(nums, low, high):\n",
    "    if low==high:\n",
    "        return nums[low:high+1]\n",
    "    mid = (low+high)//2\n",
    "    left = mergeSort(nums, low, mid)\n",
    "    right = mergeSort(nums, mid+1, high)\n",
    "    return merge(left, right)"
   ]
  },
  {
   "cell_type": "code",
   "execution_count": 5,
   "metadata": {},
   "outputs": [
    {
     "name": "stdout",
     "output_type": "stream",
     "text": [
      "[-12, -3, -1, -1, 0, 0, 10, 12, 12, 13]\n"
     ]
    }
   ],
   "source": [
    "nums = [12, 0, 0, -1, -12, 13, 10, -3, -1, 12]\n",
    "sortedNums = mergeSort(nums, 0, len(nums)-1)\n",
    "print(sortedNums)"
   ]
  },
  {
   "cell_type": "code",
   "execution_count": null,
   "metadata": {},
   "outputs": [],
   "source": []
  }
 ],
 "metadata": {
  "kernelspec": {
   "display_name": "Python 3",
   "language": "python",
   "name": "python3"
  },
  "language_info": {
   "codemirror_mode": {
    "name": "ipython",
    "version": 3
   },
   "file_extension": ".py",
   "mimetype": "text/x-python",
   "name": "python",
   "nbconvert_exporter": "python",
   "pygments_lexer": "ipython3",
   "version": "3.9.6"
  }
 },
 "nbformat": 4,
 "nbformat_minor": 2
}
