{
 "cells": [
  {
   "cell_type": "markdown",
   "metadata": {},
   "source": [
    "# SELECTION SORT"
   ]
  },
  {
   "cell_type": "code",
   "execution_count": 1,
   "metadata": {},
   "outputs": [],
   "source": [
    "def selectionSort(nums):\n",
    "    n = len(nums)\n",
    "    for i in range(n-1):\n",
    "        minn = i\n",
    "        for j in range(i+1, n):\n",
    "            if nums[j]<nums[minn]:\n",
    "                minn = j\n",
    "        if minn!=i:\n",
    "            nums[minn], nums[i] = nums[i], nums[minn]"
   ]
  },
  {
   "cell_type": "code",
   "execution_count": 5,
   "metadata": {},
   "outputs": [
    {
     "name": "stdout",
     "output_type": "stream",
     "text": [
      "[-12, -3, -1, -1, 0, 0, 10, 12, 12, 13]\n"
     ]
    }
   ],
   "source": [
    "nums = [12, 0, 0, -1, -12, 13, 10, -3, -1, 12]\n",
    "selectionSort(nums)\n",
    "print(nums)"
   ]
  }
 ],
 "metadata": {
  "kernelspec": {
   "display_name": "Python 3",
   "language": "python",
   "name": "python3"
  },
  "language_info": {
   "codemirror_mode": {
    "name": "ipython",
    "version": 3
   },
   "file_extension": ".py",
   "mimetype": "text/x-python",
   "name": "python",
   "nbconvert_exporter": "python",
   "pygments_lexer": "ipython3",
   "version": "3.9.6"
  }
 },
 "nbformat": 4,
 "nbformat_minor": 2
}
