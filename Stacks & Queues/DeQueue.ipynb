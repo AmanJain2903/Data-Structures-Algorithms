{
 "cells": [
  {
   "cell_type": "markdown",
   "metadata": {},
   "source": [
    "# DEQUEUE - Double Ended Queue\n",
    "### Can push and pop at both ends - front and rear"
   ]
  },
  {
   "cell_type": "code",
   "execution_count": 4,
   "metadata": {},
   "outputs": [],
   "source": [
    "class Deque:\n",
    "    def __init__(self, capacity):\n",
    "        self.cap = capacity\n",
    "        self.deque = [None] * self.cap\n",
    "        self.front = 0\n",
    "        self.rear = 0 \n",
    "        self.size = 0 \n",
    "    def isFull(self):\n",
    "        return self.size == self.cap\n",
    "    def isEmpty(self):\n",
    "        return self.size == 0\n",
    "    def pushFront(self, val):\n",
    "        if self.isFull():\n",
    "            print(\"Deque is full\")\n",
    "            return\n",
    "        self.front = (self.front - 1) % self.cap\n",
    "        self.deque[self.front] = val\n",
    "        self.size += 1\n",
    "    def pushRear(self, val):\n",
    "        if self.isFull():\n",
    "            print(\"Deque is full\")\n",
    "            return\n",
    "        self.deque[self.rear] = val\n",
    "        self.rear = (self.rear + 1) % self.cap\n",
    "        self.size += 1\n",
    "    def popFront(self):\n",
    "        if self.isEmpty():\n",
    "            return -1\n",
    "        top = self.deque[self.front]\n",
    "        self.front = (self.front + 1) % self.cap\n",
    "        self.size -= 1\n",
    "        return top\n",
    "    def popRear(self):\n",
    "        if self.isEmpty():\n",
    "            return -1\n",
    "        self.rear = (self.rear - 1) % self.cap\n",
    "        top = self.deque[self.rear]\n",
    "        self.size -= 1\n",
    "        return top\n",
    "    def printDeque(self):\n",
    "        if self.isEmpty():\n",
    "            print(\"Deque is empty\")\n",
    "            return\n",
    "        index = self.front\n",
    "        for _ in range(self.size):\n",
    "            print(self.deque[index%self.cap], end=\" \")\n",
    "            index+=1\n",
    "        print()"
   ]
  },
  {
   "cell_type": "code",
   "execution_count": 9,
   "metadata": {},
   "outputs": [
    {
     "name": "stdout",
     "output_type": "stream",
     "text": [
      "Deque is full\n",
      "5\n",
      "Deque is full\n",
      "Deque is full\n",
      "Deque is full\n",
      "Deque is full\n",
      "3\n",
      "1\n",
      "7 4 2 12 \n"
     ]
    }
   ],
   "source": [
    "deque = Deque(5)\n",
    "deque.pushFront(1)\n",
    "deque.pushFront(2)\n",
    "deque.pushRear(3)\n",
    "deque.pushFront(4)\n",
    "deque.pushFront(5)\n",
    "deque.pushRear(6)\n",
    "print(deque.popFront())\n",
    "deque.pushFront(7)\n",
    "deque.pushRear(8)\n",
    "deque.pushFront(9)\n",
    "deque.pushRear(10)\n",
    "deque.pushFront(11)\n",
    "print(deque.popRear())\n",
    "print(deque.popRear())\n",
    "deque.pushRear(12)\n",
    "deque.printDeque()"
   ]
  }
 ],
 "metadata": {
  "kernelspec": {
   "display_name": "Python 3",
   "language": "python",
   "name": "python3"
  },
  "language_info": {
   "codemirror_mode": {
    "name": "ipython",
    "version": 3
   },
   "file_extension": ".py",
   "mimetype": "text/x-python",
   "name": "python",
   "nbconvert_exporter": "python",
   "pygments_lexer": "ipython3",
   "version": "3.9.6"
  }
 },
 "nbformat": 4,
 "nbformat_minor": 2
}
