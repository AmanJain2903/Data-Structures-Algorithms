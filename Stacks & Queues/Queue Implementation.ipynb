{
 "cells": [
  {
   "cell_type": "markdown",
   "metadata": {},
   "source": [
    "# QUEUE USING ARRAY"
   ]
  },
  {
   "cell_type": "code",
   "execution_count": 29,
   "metadata": {},
   "outputs": [],
   "source": [
    "class QueuesUsingArray:\n",
    "    def __init__(self, capacity):\n",
    "        self.cap = capacity\n",
    "        self.queue = [-1]*self.cap\n",
    "        self.cnt = 0\n",
    "        self.front = self.rear = 0\n",
    "    def push(self, val):\n",
    "        self.queue[self.rear%self.cap] = val\n",
    "        self.rear+=1\n",
    "        self.cnt+=1\n",
    "    def pop(self):\n",
    "        if self.cnt==0:\n",
    "            return -1\n",
    "        el = self.queue[self.front%self.cap]\n",
    "        self.cnt-=1\n",
    "        self.front+=1\n",
    "        return el\n",
    "    def printQueue(self):\n",
    "        q = []\n",
    "        for i in range(self.front, self.rear):\n",
    "            q.append(self.queue[i%self.cap])\n",
    "        print(q)"
   ]
  },
  {
   "cell_type": "code",
   "execution_count": 31,
   "metadata": {},
   "outputs": [
    {
     "name": "stdout",
     "output_type": "stream",
     "text": [
      "1\n",
      "2\n",
      "3\n",
      "4\n",
      "[5, 6, 7, 8, 9]\n"
     ]
    }
   ],
   "source": [
    "QueueUsingArray = QueuesUsingArray(5)\n",
    "QueueUsingArray.push(1)\n",
    "QueueUsingArray.push(2)\n",
    "QueueUsingArray.push(3)\n",
    "print(QueueUsingArray.pop())\n",
    "print(QueueUsingArray.pop())\n",
    "QueueUsingArray.push(4)\n",
    "QueueUsingArray.push(5)\n",
    "QueueUsingArray.push(6)\n",
    "QueueUsingArray.push(7)\n",
    "print(QueueUsingArray.pop())\n",
    "QueueUsingArray.push(8)\n",
    "print(QueueUsingArray.pop())\n",
    "QueueUsingArray.push(9)\n",
    "QueueUsingArray.printQueue()"
   ]
  },
  {
   "cell_type": "markdown",
   "metadata": {},
   "source": [
    "# QUEUE USING LINKED LIST"
   ]
  },
  {
   "cell_type": "code",
   "execution_count": 34,
   "metadata": {},
   "outputs": [],
   "source": [
    "class Node:\n",
    "    def __init__(self, value=None):\n",
    "        self.val = value\n",
    "        self.next = None\n",
    "\n",
    "class LinkedList:\n",
    "    def __init__(self):\n",
    "        self.head = None\n",
    "    def insertAtEnd(self, value):\n",
    "        node = Node(value)\n",
    "        if self.head is None:\n",
    "            self.head=node\n",
    "        else:\n",
    "            itr = self.head\n",
    "            while itr.next:\n",
    "                itr=itr.next\n",
    "            itr.next=node\n",
    "    def insertAtHead(self, value):\n",
    "        node=Node(value)\n",
    "        if self.head is None:\n",
    "            self.head=node\n",
    "        else:\n",
    "            node.next = self.head\n",
    "            self.head = node\n",
    "    def deleteLast(self):\n",
    "        itr = self.head\n",
    "        if itr is None or itr.next is None:\n",
    "            self.head=None\n",
    "        else:\n",
    "            while itr.next.next:\n",
    "                itr=itr.next\n",
    "            itr.next=None\n",
    "    def deleteHead(self):\n",
    "        if self.head is None:\n",
    "            return\n",
    "        else:\n",
    "            self.head = self.head.next\n",
    "    def print(self):\n",
    "        itr = self.head\n",
    "        ll = ''\n",
    "        while itr:\n",
    "            ll+=str(itr.val)\n",
    "            ll+=\" -> \"\n",
    "            itr=itr.next\n",
    "        print(ll)\n",
    "   \n",
    "class QueuesUsingLL:\n",
    "    def __init__(self):\n",
    "        self.queue = LinkedList()\n",
    "    def push(self, val):\n",
    "        self.queue.insertAtEnd(val)\n",
    "    def pop(self):\n",
    "        if self.queue.head is None:\n",
    "            return None\n",
    "        el = self.queue.head\n",
    "        self.queue.head = self.queue.head.next\n",
    "        return el.val\n",
    "    def printQueue(self):\n",
    "        self.queue.print()"
   ]
  },
  {
   "cell_type": "code",
   "execution_count": 36,
   "metadata": {},
   "outputs": [
    {
     "name": "stdout",
     "output_type": "stream",
     "text": [
      "1\n",
      "2\n",
      "3\n",
      "4\n",
      "5 -> 6 -> 7 -> 8 -> 9 -> \n"
     ]
    }
   ],
   "source": [
    "QueueUsingLL = QueuesUsingLL()\n",
    "QueueUsingLL.push(1)\n",
    "QueueUsingLL.push(2)\n",
    "QueueUsingLL.push(3)\n",
    "print(QueueUsingLL.pop())\n",
    "print(QueueUsingLL.pop())\n",
    "QueueUsingLL.push(4)\n",
    "QueueUsingLL.push(5)\n",
    "QueueUsingLL.push(6)\n",
    "QueueUsingLL.push(7)\n",
    "print(QueueUsingLL.pop())\n",
    "QueueUsingLL.push(8)\n",
    "print(QueueUsingLL.pop())\n",
    "QueueUsingLL.push(9)\n",
    "QueueUsingLL.printQueue()"
   ]
  },
  {
   "cell_type": "markdown",
   "metadata": {},
   "source": [
    "# QUEUE USING STACK"
   ]
  },
  {
   "cell_type": "code",
   "execution_count": 48,
   "metadata": {},
   "outputs": [],
   "source": [
    "class Stack:\n",
    "    def __init__(self):\n",
    "        self.stack = []\n",
    "        self.top = -1\n",
    "    def push(self, val):\n",
    "        self.stack.append(val)\n",
    "        self.top+=1\n",
    "    def pop(self):\n",
    "        el = self.stack[self.top]\n",
    "        self.stack = self.stack[:self.top]\n",
    "        self.top-=1\n",
    "        return el\n",
    "\n",
    "#Using Two Stacks \n",
    "class QueueUsingStacks:\n",
    "    def __init__(self):\n",
    "        self.mainStack = Stack()\n",
    "        self.sideStack = Stack()\n",
    "    def push(self, val):\n",
    "        self.mainStack.push(val)\n",
    "    def pop(self):\n",
    "        while self.mainStack.stack:\n",
    "            self.sideStack.push(self.mainStack.pop())\n",
    "        top = self.sideStack.pop()\n",
    "        while self.sideStack.stack:\n",
    "            self.mainStack.push(self.sideStack.pop())\n",
    "        return top\n",
    "    def printQueue(self):\n",
    "        print(self.mainStack.stack)"
   ]
  },
  {
   "cell_type": "code",
   "execution_count": 49,
   "metadata": {},
   "outputs": [
    {
     "name": "stdout",
     "output_type": "stream",
     "text": [
      "1\n",
      "2\n",
      "3\n",
      "4\n",
      "[5, 6, 7, 8, 9]\n"
     ]
    }
   ],
   "source": [
    "queueUsingStacks = QueueUsingStacks()\n",
    "queueUsingStacks.push(1)\n",
    "queueUsingStacks.push(2)\n",
    "queueUsingStacks.push(3)\n",
    "print(queueUsingStacks.pop())\n",
    "print(queueUsingStacks.pop())\n",
    "queueUsingStacks.push(4)\n",
    "queueUsingStacks.push(5)\n",
    "queueUsingStacks.push(6)\n",
    "queueUsingStacks.push(7)\n",
    "print(queueUsingStacks.pop())\n",
    "queueUsingStacks.push(8)\n",
    "print(queueUsingStacks.pop())\n",
    "queueUsingStacks.push(9)\n",
    "queueUsingStacks.printQueue()"
   ]
  },
  {
   "cell_type": "code",
   "execution_count": null,
   "metadata": {},
   "outputs": [],
   "source": []
  }
 ],
 "metadata": {
  "kernelspec": {
   "display_name": "Python 3",
   "language": "python",
   "name": "python3"
  },
  "language_info": {
   "codemirror_mode": {
    "name": "ipython",
    "version": 3
   },
   "file_extension": ".py",
   "mimetype": "text/x-python",
   "name": "python",
   "nbconvert_exporter": "python",
   "pygments_lexer": "ipython3",
   "version": "3.9.6"
  }
 },
 "nbformat": 4,
 "nbformat_minor": 2
}
