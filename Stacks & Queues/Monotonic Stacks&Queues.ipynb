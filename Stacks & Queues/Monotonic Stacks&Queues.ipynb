{
 "cells": [
  {
   "cell_type": "markdown",
   "metadata": {},
   "source": [
    "# MONOTONIC STACKS AND QUEUES\n",
    "#### Stacks & Queues, elements pushed in which follow a specific order (Ascending or Descending)"
   ]
  },
  {
   "cell_type": "markdown",
   "metadata": {},
   "source": [
    "# ---------------------------------------------------------------\n",
    "## Previous Greater Element"
   ]
  },
  {
   "cell_type": "code",
   "execution_count": 9,
   "metadata": {},
   "outputs": [],
   "source": [
    "def pge(arr):\n",
    "    stack = []\n",
    "    pg = []\n",
    "    for el in arr:\n",
    "        while stack and stack[-1]<=el:\n",
    "            stack.pop()\n",
    "        if len(stack)==0:\n",
    "            pg.append(-1)\n",
    "        else:\n",
    "            pg.append(stack[-1])\n",
    "        stack.append(el)\n",
    "    return pg"
   ]
  },
  {
   "cell_type": "code",
   "execution_count": 10,
   "metadata": {},
   "outputs": [
    {
     "data": {
      "text/plain": [
       "[-1, -1, 10, 4, 2, 4, 10, 6, 10, 7, 10]"
      ]
     },
     "execution_count": 10,
     "metadata": {},
     "output_type": "execute_result"
    }
   ],
   "source": [
    "arr = [3, 10, 4, 2, 1, 2, 6, 1, 7, 2, 9]\n",
    "pge(arr)"
   ]
  },
  {
   "cell_type": "markdown",
   "metadata": {},
   "source": [
    "# ---------------------------------------------------------------\n",
    "## Next Greater Element"
   ]
  },
  {
   "cell_type": "code",
   "execution_count": 8,
   "metadata": {},
   "outputs": [],
   "source": [
    "def nge(arr):\n",
    "    stack = []\n",
    "    ng = []\n",
    "    for el in arr[::-1]:\n",
    "        while stack and stack[-1]<=el:\n",
    "            stack.pop()\n",
    "        if len(stack)==0:\n",
    "            ng.append(-1)\n",
    "        else:\n",
    "            ng.append(stack[-1])\n",
    "        stack.append(el)\n",
    "    return ng[::-1]"
   ]
  },
  {
   "cell_type": "code",
   "execution_count": 11,
   "metadata": {},
   "outputs": [
    {
     "data": {
      "text/plain": [
       "[10, -1, 6, 6, 2, 6, 7, 7, 9, 9, -1]"
      ]
     },
     "execution_count": 11,
     "metadata": {},
     "output_type": "execute_result"
    }
   ],
   "source": [
    "arr = [3, 10, 4, 2, 1, 2, 6, 1, 7, 2, 9]\n",
    "nge(arr)"
   ]
  },
  {
   "cell_type": "markdown",
   "metadata": {},
   "source": [
    "# ---------------------------------------------------------------\n",
    "## Previous Smaller Element"
   ]
  },
  {
   "cell_type": "code",
   "execution_count": 12,
   "metadata": {},
   "outputs": [],
   "source": [
    "def pse(arr):\n",
    "    stack = []\n",
    "    ps = []\n",
    "    for el in arr:\n",
    "        while stack and stack[-1]>=el:\n",
    "            stack.pop()\n",
    "        if len(stack)==0:\n",
    "            ps.append(-1)\n",
    "        else:\n",
    "            ps.append(stack[-1])\n",
    "        stack.append(el)\n",
    "    return ps"
   ]
  },
  {
   "cell_type": "code",
   "execution_count": 13,
   "metadata": {},
   "outputs": [
    {
     "data": {
      "text/plain": [
       "[-1, 3, 3, -1, -1, 1, 2, -1, 1, 1, 2]"
      ]
     },
     "execution_count": 13,
     "metadata": {},
     "output_type": "execute_result"
    }
   ],
   "source": [
    "arr = [3, 10, 4, 2, 1, 2, 6, 1, 7, 2, 9]\n",
    "pse(arr)"
   ]
  },
  {
   "cell_type": "markdown",
   "metadata": {},
   "source": [
    "# ---------------------------------------------------------------\n",
    "## Next Smaller Element"
   ]
  },
  {
   "cell_type": "code",
   "execution_count": 16,
   "metadata": {},
   "outputs": [],
   "source": [
    "def nse(arr):\n",
    "    stack = []\n",
    "    ns = []\n",
    "    for el in arr[::-1]:\n",
    "        while stack and stack[-1]>=el:\n",
    "            stack.pop()\n",
    "        if len(stack)==0:\n",
    "            ns.append(-1)\n",
    "        else:\n",
    "            ns.append(stack[-1])\n",
    "        stack.append(el)\n",
    "    return ns[::-1]"
   ]
  },
  {
   "cell_type": "code",
   "execution_count": 17,
   "metadata": {},
   "outputs": [
    {
     "data": {
      "text/plain": [
       "[2, 4, 2, 1, -1, 1, 1, -1, 2, -1, -1]"
      ]
     },
     "execution_count": 17,
     "metadata": {},
     "output_type": "execute_result"
    }
   ],
   "source": [
    "arr = [3, 10, 4, 2, 1, 2, 6, 1, 7, 2, 9]\n",
    "nse(arr)"
   ]
  },
  {
   "cell_type": "markdown",
   "metadata": {},
   "source": [
    "# ---------------------------------------------------------------\n",
    "## NGE/NSE/PGE/PSE When Array Is Considered Circular"
   ]
  },
  {
   "cell_type": "markdown",
   "metadata": {},
   "source": [
    "# ---------------------------------------------------------------\n",
    "## Circular Previous Greater Element"
   ]
  },
  {
   "cell_type": "code",
   "execution_count": 34,
   "metadata": {},
   "outputs": [],
   "source": [
    "def circularPge(arr):\n",
    "    stack = []\n",
    "    pg = []\n",
    "    for i in range(2*len(arr)):\n",
    "        el = arr[i%len(arr)]\n",
    "        while stack and stack[-1]<=el:\n",
    "            stack.pop()\n",
    "        if len(stack)==0:\n",
    "            pg.append(-1)\n",
    "        else:\n",
    "            pg.append(stack[-1])\n",
    "        stack.append(el)\n",
    "    return pg[len(arr):]"
   ]
  },
  {
   "cell_type": "code",
   "execution_count": 35,
   "metadata": {},
   "outputs": [
    {
     "data": {
      "text/plain": [
       "[9, -1, 10, 4, 2, 4, 10, 6, 10, 7, 10]"
      ]
     },
     "execution_count": 35,
     "metadata": {},
     "output_type": "execute_result"
    }
   ],
   "source": [
    "arr = [3, 10, 4, 2, 1, 2, 6, 1, 7, 2, 9]\n",
    "circularPge(arr)"
   ]
  },
  {
   "cell_type": "markdown",
   "metadata": {},
   "source": [
    "# ---------------------------------------------------------------\n",
    "## Circular Next Greater Element"
   ]
  },
  {
   "cell_type": "code",
   "execution_count": 32,
   "metadata": {},
   "outputs": [],
   "source": [
    "def circularNge(arr):\n",
    "    stack = []\n",
    "    ng = []\n",
    "    for i in range(2*len(arr)-1, -1, -1):\n",
    "        el = arr[i%len(arr)]\n",
    "        while stack and stack[-1]<=el:\n",
    "            stack.pop()\n",
    "        if len(stack)==0:\n",
    "            ng.append(-1)\n",
    "        else:\n",
    "            ng.append(stack[-1])\n",
    "        stack.append(el)\n",
    "    return ng[::-1][:len(arr)]"
   ]
  },
  {
   "cell_type": "code",
   "execution_count": 33,
   "metadata": {},
   "outputs": [
    {
     "data": {
      "text/plain": [
       "[10, -1, 6, 6, 2, 6, 7, 7, 9, 9, 10]"
      ]
     },
     "execution_count": 33,
     "metadata": {},
     "output_type": "execute_result"
    }
   ],
   "source": [
    "arr = [3, 10, 4, 2, 1, 2, 6, 1, 7, 2, 9]\n",
    "circularNge(arr)"
   ]
  },
  {
   "cell_type": "markdown",
   "metadata": {},
   "source": [
    "# ---------------------------------------------------------------\n",
    "## Circular Previous Smaller Element"
   ]
  },
  {
   "cell_type": "code",
   "execution_count": 36,
   "metadata": {},
   "outputs": [],
   "source": [
    "def circularPse(arr):\n",
    "    stack = []\n",
    "    ps = []\n",
    "    for i in range(2*len(arr)):\n",
    "        el = arr[i%len(arr)]\n",
    "        while stack and stack[-1]>=el:\n",
    "            stack.pop()\n",
    "        if len(stack)==0:\n",
    "            ps.append(-1)\n",
    "        else:\n",
    "            ps.append(stack[-1])\n",
    "        stack.append(el)\n",
    "    return ps[len(arr):]"
   ]
  },
  {
   "cell_type": "code",
   "execution_count": 37,
   "metadata": {},
   "outputs": [
    {
     "data": {
      "text/plain": [
       "[2, 3, 3, 1, -1, 1, 2, -1, 1, 1, 2]"
      ]
     },
     "execution_count": 37,
     "metadata": {},
     "output_type": "execute_result"
    }
   ],
   "source": [
    "arr = [3, 10, 4, 2, 1, 2, 6, 1, 7, 2, 9]\n",
    "circularPse(arr)"
   ]
  },
  {
   "cell_type": "markdown",
   "metadata": {},
   "source": [
    "# ---------------------------------------------------------------\n",
    "## Circular Next Smaller Element"
   ]
  },
  {
   "cell_type": "code",
   "execution_count": 38,
   "metadata": {},
   "outputs": [],
   "source": [
    "def circularNse(arr):\n",
    "    stack = []\n",
    "    ns = []\n",
    "    for i in range(2*len(arr)-1, -1, -1):\n",
    "        el = arr[i%len(arr)]\n",
    "        while stack and stack[-1]>=el:\n",
    "            stack.pop()\n",
    "        if len(stack)==0:\n",
    "            ns.append(-1)\n",
    "        else:\n",
    "            ns.append(stack[-1])\n",
    "        stack.append(el)\n",
    "    return ns[::-1][:len(arr)]"
   ]
  },
  {
   "cell_type": "code",
   "execution_count": 39,
   "metadata": {},
   "outputs": [
    {
     "data": {
      "text/plain": [
       "[2, 4, 2, 1, -1, 1, 1, -1, 2, 1, 3]"
      ]
     },
     "execution_count": 39,
     "metadata": {},
     "output_type": "execute_result"
    }
   ],
   "source": [
    "arr = [3, 10, 4, 2, 1, 2, 6, 1, 7, 2, 9]\n",
    "circularNse(arr)"
   ]
  }
 ],
 "metadata": {
  "kernelspec": {
   "display_name": "Python 3",
   "language": "python",
   "name": "python3"
  },
  "language_info": {
   "codemirror_mode": {
    "name": "ipython",
    "version": 3
   },
   "file_extension": ".py",
   "mimetype": "text/x-python",
   "name": "python",
   "nbconvert_exporter": "python",
   "pygments_lexer": "ipython3",
   "version": "3.9.6"
  }
 },
 "nbformat": 4,
 "nbformat_minor": 2
}
