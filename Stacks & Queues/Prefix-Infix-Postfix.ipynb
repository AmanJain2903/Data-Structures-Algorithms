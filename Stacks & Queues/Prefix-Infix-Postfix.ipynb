{
 "cells": [
  {
   "cell_type": "markdown",
   "metadata": {},
   "source": [
    "# PREFIX ,INFIX & POSTFIX"
   ]
  },
  {
   "cell_type": "markdown",
   "metadata": {},
   "source": [
    "# ---------------------------------------------------------------"
   ]
  },
  {
   "cell_type": "markdown",
   "metadata": {},
   "source": [
    "#### PREFIX : *+pq-mn\n",
    "\n",
    "#### INFIX : (p+q)*(m-n)\n",
    "\n",
    "#### POSTFIX : pq+mn-*"
   ]
  },
  {
   "cell_type": "markdown",
   "metadata": {},
   "source": [
    "# ---------------------------------------------------------------"
   ]
  },
  {
   "cell_type": "markdown",
   "metadata": {},
   "source": [
    "##### OPERATORS : ^  *   /   +   .   (   )\n",
    "##### PRIORITY FUNCTION : ^ > *,/ > +,- > others"
   ]
  },
  {
   "cell_type": "markdown",
   "metadata": {},
   "source": [
    "# ---------------------------------------------------------------\n",
    "# INFIX TO POSTFIX\n",
    "## RULES\n",
    "### 1. Operand directly appends to the answer.\n",
    "### 2. Operator goes to stack if stack is empty or priority(stack.top)<priority(S[i]).\n",
    "### 3. Opening bracket directly goes to stack.\n",
    "### 4. If priority(stack.top)>=priority(S[i]) -> ans+=stack.top() and stack.pop() -> operator then goes to stack.\n",
    "### 5. When encounter closing bracket -> ans+=stack.pop() untill stack.top!=openingBracket -> then stack.pop().\n",
    "### 6. When full expression is iterated -> while stack : ans+=stack.pop()."
   ]
  },
  {
   "cell_type": "code",
   "execution_count": null,
   "metadata": {},
   "outputs": [],
   "source": []
  },
  {
   "cell_type": "markdown",
   "metadata": {},
   "source": [
    "# ---------------------------------------------------------------\n",
    "# INFIX TO PREFIX\n",
    "## RULES\n",
    "### 1. Operand directly appends to the answer.\n",
    "### 2. Operator goes to stack if stack is empty or priority(stack.top)<priority(S[i]).\n",
    "### 3. Opening bracket directly goes to stack.\n",
    "### 4. If priority(stack.top)>=priority(S[i]) -> ans+=stack.top() and stack.pop() -> operator then goes to stack.\n",
    "### 5. When encounter closing bracket -> ans+=stack.pop() untill stack.top!=openingBracket -> then stack.pop().\n",
    "### 6. When full expression is iterated -> while stack : ans+=stack.pop()."
   ]
  },
  {
   "cell_type": "code",
   "execution_count": null,
   "metadata": {},
   "outputs": [],
   "source": []
  },
  {
   "cell_type": "markdown",
   "metadata": {},
   "source": [
    "# ---------------------------------------------------------------\n",
    "# POSTFIX TO INFIX\n",
    "## RULES\n",
    "### 1. Operand directly appends to the answer.\n",
    "### 2. Operator goes to stack if stack is empty or priority(stack.top)<priority(S[i]).\n",
    "### 3. Opening bracket directly goes to stack.\n",
    "### 4. If priority(stack.top)>=priority(S[i]) -> ans+=stack.top() and stack.pop() -> operator then goes to stack.\n",
    "### 5. When encounter closing bracket -> ans+=stack.pop() untill stack.top!=openingBracket -> then stack.pop().\n",
    "### 6. When full expression is iterated -> while stack : ans+=stack.pop()."
   ]
  },
  {
   "cell_type": "code",
   "execution_count": null,
   "metadata": {},
   "outputs": [],
   "source": []
  },
  {
   "cell_type": "markdown",
   "metadata": {},
   "source": [
    "# ---------------------------------------------------------------\n",
    "# PREFIX TO INFIX\n",
    "## RULES\n",
    "### 1. Operand directly appends to the answer.\n",
    "### 2. Operator goes to stack if stack is empty or priority(stack.top)<priority(S[i]).\n",
    "### 3. Opening bracket directly goes to stack.\n",
    "### 4. If priority(stack.top)>=priority(S[i]) -> ans+=stack.top() and stack.pop() -> operator then goes to stack.\n",
    "### 5. When encounter closing bracket -> ans+=stack.pop() untill stack.top!=openingBracket -> then stack.pop().\n",
    "### 6. When full expression is iterated -> while stack : ans+=stack.pop()."
   ]
  },
  {
   "cell_type": "code",
   "execution_count": null,
   "metadata": {},
   "outputs": [],
   "source": []
  },
  {
   "cell_type": "markdown",
   "metadata": {},
   "source": [
    "# ---------------------------------------------------------------\n",
    "# PREFIX TO POSTFIX\n",
    "## RULES\n",
    "### 1. Operand directly appends to the answer.\n",
    "### 2. Operator goes to stack if stack is empty or priority(stack.top)<priority(S[i]).\n",
    "### 3. Opening bracket directly goes to stack.\n",
    "### 4. If priority(stack.top)>=priority(S[i]) -> ans+=stack.top() and stack.pop() -> operator then goes to stack.\n",
    "### 5. When encounter closing bracket -> ans+=stack.pop() untill stack.top!=openingBracket -> then stack.pop().\n",
    "### 6. When full expression is iterated -> while stack : ans+=stack.pop()."
   ]
  },
  {
   "cell_type": "code",
   "execution_count": null,
   "metadata": {},
   "outputs": [],
   "source": []
  },
  {
   "cell_type": "markdown",
   "metadata": {},
   "source": [
    "# ---------------------------------------------------------------\n",
    "# POSTFIX TO PREFIX\n",
    "## RULES\n",
    "### 1. Operand directly appends to the answer.\n",
    "### 2. Operator goes to stack if stack is empty or priority(stack.top)<priority(S[i]).\n",
    "### 3. Opening bracket directly goes to stack.\n",
    "### 4. If priority(stack.top)>=priority(S[i]) -> ans+=stack.top() and stack.pop() -> operator then goes to stack.\n",
    "### 5. When encounter closing bracket -> ans+=stack.pop() untill stack.top!=openingBracket -> then stack.pop().\n",
    "### 6. When full expression is iterated -> while stack : ans+=stack.pop()."
   ]
  },
  {
   "cell_type": "code",
   "execution_count": null,
   "metadata": {},
   "outputs": [],
   "source": []
  }
 ],
 "metadata": {
  "kernelspec": {
   "display_name": "Python 3",
   "language": "python",
   "name": "python3"
  },
  "language_info": {
   "name": "python",
   "version": "3.9.6"
  }
 },
 "nbformat": 4,
 "nbformat_minor": 2
}
