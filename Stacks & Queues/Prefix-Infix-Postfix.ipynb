{
 "cells": [
  {
   "cell_type": "markdown",
   "metadata": {},
   "source": [
    "# PREFIX ,INFIX & POSTFIX"
   ]
  },
  {
   "cell_type": "markdown",
   "metadata": {},
   "source": [
    "# ---------------------------------------------------------------"
   ]
  },
  {
   "cell_type": "markdown",
   "metadata": {},
   "source": [
    "#### PREFIX : *+pq-mn\n",
    "\n",
    "#### INFIX : (p+q)*(m-n)\n",
    "\n",
    "#### POSTFIX : pq+mn-*"
   ]
  },
  {
   "cell_type": "markdown",
   "metadata": {},
   "source": [
    "# ---------------------------------------------------------------"
   ]
  },
  {
   "cell_type": "markdown",
   "metadata": {},
   "source": [
    "##### OPERATORS : ^  *   /   +   .   (   )\n",
    "##### PRIORITY FUNCTION : ^ > *,/ > +,- > others"
   ]
  },
  {
   "cell_type": "code",
   "execution_count": 2,
   "metadata": {},
   "outputs": [],
   "source": [
    "priority = {\n",
    "    '^' : 3, \n",
    "    '*' : 2,\n",
    "    '/' : 2,\n",
    "    '+' : 1,\n",
    "    '-' : 1\n",
    "}"
   ]
  },
  {
   "cell_type": "markdown",
   "metadata": {},
   "source": [
    "# ---------------------------------------------------------------\n",
    "# INFIX TO POSTFIX\n",
    "## RULES\n",
    "### 1. Operand directly appends to the answer.\n",
    "### 2. Operator goes to stack if stack is empty or priority(stack.top)<priority(S[i]).\n",
    "### 3. Opening bracket directly goes to stack.\n",
    "### 4. If priority(stack.top)>=priority(S[i]) -> ans+=stack.top() and stack.pop() -> operator then goes to stack.\n",
    "### 5. When encounter closing bracket -> ans+=stack.pop() untill stack.top!=openingBracket -> then stack.pop().\n",
    "### 6. When full expression is iterated -> while stack : ans+=stack.pop()."
   ]
  },
  {
   "cell_type": "code",
   "execution_count": 18,
   "metadata": {},
   "outputs": [
    {
     "name": "stdout",
     "output_type": "stream",
     "text": [
      "pq+mn-*\n"
     ]
    }
   ],
   "source": [
    "def infixToPostfix(infix):\n",
    "    postfix = \"\"\n",
    "    stack = []\n",
    "    for a in infix:\n",
    "        if a==\"(\":\n",
    "            stack.append(a)\n",
    "        elif a==\")\":\n",
    "            while stack and stack[-1]!=\"(\":\n",
    "                postfix+=stack.pop(-1)\n",
    "            stack.pop(-1)\n",
    "        elif a not in priority:\n",
    "            postfix+=a\n",
    "        else:\n",
    "            if len(stack)==0 or stack[-1]==\"(\" or priority[a]>priority[stack[-1]]:\n",
    "                stack.append(a)\n",
    "            else:\n",
    "                postfix += stack.pop(-1)\n",
    "                stack.append(a)\n",
    "    while stack:\n",
    "        postfix+=stack.pop(-1)\n",
    "    return postfix\n",
    "print(infixToPostfix(\"(p+q)*(m-n)\"))"
   ]
  },
  {
   "cell_type": "markdown",
   "metadata": {},
   "source": [
    "# ---------------------------------------------------------------\n",
    "# INFIX TO PREFIX\n",
    "## RULES\n",
    "### 1. Reverse the infix expression -> rInfix, while taking care of brackets, ( <-> ). (TREAT BRACKETS OPPOSITE WAY)\n",
    "### 2. Convert this rInfix to postfix with some updated conditions for operator.\n",
    "### if operator == '^' : pop if priority[stack.top]>=priority[S[i]]\n",
    "### else : pop only if priority[stack.top]>priority[S[i]]\n",
    "### 3. Return reverse of converted postfix as -> prefix of given infix."
   ]
  },
  {
   "cell_type": "code",
   "execution_count": 20,
   "metadata": {},
   "outputs": [
    {
     "name": "stdout",
     "output_type": "stream",
     "text": [
      "*+pq-mn\n"
     ]
    }
   ],
   "source": [
    "def infixToPrefix(infix):\n",
    "    rInfix = infix[::-1]\n",
    "    postfix = \"\"\n",
    "    stack = []\n",
    "    for a in rInfix:\n",
    "        if a==\")\":\n",
    "            stack.append(a)\n",
    "        elif a==\"(\":\n",
    "            while stack and stack[-1]!=\")\":\n",
    "                postfix+=stack.pop(-1)\n",
    "            stack.pop(-1)\n",
    "        elif a not in priority:\n",
    "            postfix+=a\n",
    "        else:\n",
    "            if len(stack)==0 or stack[-1]==\")\" or priority[a]>priority[stack[-1]]:\n",
    "                stack.append(a)\n",
    "            elif priority[a]>priority[stack[-1]]:\n",
    "                postfix += stack.pop(-1)\n",
    "                stack.append(a)\n",
    "            else:\n",
    "                if a==\"^\":\n",
    "                    postfix += stack.pop(-1)\n",
    "                stack.append(a)\n",
    "    while stack:\n",
    "        postfix+=stack.pop(-1)\n",
    "    return postfix[::-1]\n",
    "print(infixToPrefix(\"(p+q)*(m-n)\"))"
   ]
  },
  {
   "cell_type": "markdown",
   "metadata": {},
   "source": [
    "# ---------------------------------------------------------------\n",
    "# POSTFIX TO INFIX\n",
    "## RULES\n",
    "### 1. Operand directly goes to stack.\n",
    "### 2. If operator -> pop last two elements -> add operator in between -> wrap inside brackets -> push back to stack.\n",
    "### 3. Top = second operand and secondTop = first operand."
   ]
  },
  {
   "cell_type": "code",
   "execution_count": 23,
   "metadata": {},
   "outputs": [
    {
     "name": "stdout",
     "output_type": "stream",
     "text": [
      "((p+q)*(m-n))\n"
     ]
    }
   ],
   "source": [
    "def postfixToInfix(postfix):\n",
    "    infix = \"\"\n",
    "    stack = []\n",
    "    for i in postfix:\n",
    "        if i not in priority:\n",
    "            stack.append(i)\n",
    "        else:\n",
    "            b = stack.pop()\n",
    "            a = stack.pop()\n",
    "            ans = \"(\" + a + i + b + ')'\n",
    "            stack.append(ans)\n",
    "    return \"\".join(stack)\n",
    "print(postfixToInfix(\"pq+mn-*\"))"
   ]
  },
  {
   "cell_type": "markdown",
   "metadata": {},
   "source": [
    "# ---------------------------------------------------------------\n",
    "# PREFIX TO INFIX\n",
    "## RULES\n",
    "### 1. Just iterate from back, rest same as postfix to infix.\n",
    "### 2. Now top element in first operand and second top is second operand."
   ]
  },
  {
   "cell_type": "code",
   "execution_count": 24,
   "metadata": {},
   "outputs": [
    {
     "name": "stdout",
     "output_type": "stream",
     "text": [
      "((p+q)*(m-n))\n"
     ]
    }
   ],
   "source": [
    "def prefixToInfix(prefix):\n",
    "    infix = \"\"\n",
    "    stack = []\n",
    "    for i in prefix[::-1]:\n",
    "        if i not in priority:\n",
    "            stack.append(i)\n",
    "        else:\n",
    "            a = stack.pop()\n",
    "            b = stack.pop()\n",
    "            ans = \"(\" + a + i + b + ')'\n",
    "            stack.append(ans)\n",
    "    return \"\".join(stack)\n",
    "print(prefixToInfix(\"*+pq-mn\"))"
   ]
  },
  {
   "cell_type": "markdown",
   "metadata": {},
   "source": [
    "# ---------------------------------------------------------------\n",
    "# POSTFIX TO PREFIX\n",
    "## RULES\n",
    "### 1. Operand directly goes to the stack.\n",
    "### 2. If operator : pop last two elements and add operator before them and push to stack as a single element.\n",
    "### 3. Top is second operand and secondTop is first operand."
   ]
  },
  {
   "cell_type": "code",
   "execution_count": 27,
   "metadata": {},
   "outputs": [
    {
     "name": "stdout",
     "output_type": "stream",
     "text": [
      "*+pq-mn\n"
     ]
    }
   ],
   "source": [
    "def postfixToPrefix(postfix):\n",
    "    stack = []\n",
    "    for i in postfix:\n",
    "        if i not in priority:\n",
    "            stack.append(i)\n",
    "        else:\n",
    "            b = stack.pop()\n",
    "            a = stack.pop()\n",
    "            ans = i + a + b\n",
    "            stack.append(ans)\n",
    "    return \"\".join(stack)\n",
    "print(postfixToPrefix(\"pq+mn-*\"))"
   ]
  },
  {
   "cell_type": "markdown",
   "metadata": {},
   "source": [
    "# ---------------------------------------------------------------\n",
    "# PREFIX TO POSTFIX\n",
    "## RULES\n",
    "### 1. Just iterate prefix from back and rest same as postfix to prefix.\n",
    "### 2. If operator : pop last two elements and add operator after them and push back to stack as a single element.\n",
    "### 3. Top is first operand and secondTop is second operand."
   ]
  },
  {
   "cell_type": "code",
   "execution_count": 29,
   "metadata": {},
   "outputs": [
    {
     "name": "stdout",
     "output_type": "stream",
     "text": [
      "pq+mn-*\n"
     ]
    }
   ],
   "source": [
    "def prefixToPostfix(prefix):\n",
    "    stack = []\n",
    "    for i in prefix[::-1]:\n",
    "        if i not in priority:\n",
    "            stack.append(i)\n",
    "        else:\n",
    "            a = stack.pop()\n",
    "            b = stack.pop()\n",
    "            ans = a + b + i\n",
    "            stack.append(ans)\n",
    "    return \"\".join(stack)\n",
    "print(prefixToPostfix(\"*+pq-mn\"))"
   ]
  }
 ],
 "metadata": {
  "kernelspec": {
   "display_name": "Python 3",
   "language": "python",
   "name": "python3"
  },
  "language_info": {
   "codemirror_mode": {
    "name": "ipython",
    "version": 3
   },
   "file_extension": ".py",
   "mimetype": "text/x-python",
   "name": "python",
   "nbconvert_exporter": "python",
   "pygments_lexer": "ipython3",
   "version": "3.9.6"
  }
 },
 "nbformat": 4,
 "nbformat_minor": 2
}
