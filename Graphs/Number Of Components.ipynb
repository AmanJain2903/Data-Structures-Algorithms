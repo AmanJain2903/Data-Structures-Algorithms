{
 "cells": [
  {
   "cell_type": "markdown",
   "metadata": {},
   "source": [
    "# NUMBER OF GRAPH COMPONENTS USING TRAVERSAL"
   ]
  },
  {
   "cell_type": "code",
   "execution_count": 8,
   "metadata": {},
   "outputs": [],
   "source": [
    "class Graph:\n",
    "    def __init__(self, N, isDirected):\n",
    "        self.N = N\n",
    "        self.isDirected = isDirected\n",
    "        self.adjList = [[] for _ in range(self.N)]\n",
    "    def addEdge(self, a, b, w=1):\n",
    "        if a>=self.N or b>=self.N:\n",
    "            return\n",
    "        if self.isDirected:\n",
    "            self.adjList[a].append((b, w))\n",
    "        else:\n",
    "            self.adjList[a].append((b, w))\n",
    "            self.adjList[b].append((a, w))\n",
    "    def printGraph(self):\n",
    "        print(self.adjList)\n",
    "    def numberOfEdges(self):\n",
    "        cnt = 0\n",
    "        for i in range(self.N):\n",
    "            cnt+=len(self.adjList[i])\n",
    "        return cnt\n",
    "    def BFS(self, startNode, visited=set()):\n",
    "        traversal = []\n",
    "        queue = [startNode]\n",
    "        while queue:\n",
    "            parent = queue.pop(0)\n",
    "            if parent not in visited:\n",
    "                traversal.append(parent)\n",
    "                visited.add(parent)\n",
    "            for node, weight in self.adjList[parent]:\n",
    "                if node not in visited:\n",
    "                    queue.append(node)\n",
    "        return traversal\n",
    "    def countComponents(self):\n",
    "        visited = set()\n",
    "        cnt=0\n",
    "        for node in range(self.N):\n",
    "            if node not in visited:\n",
    "                cnt+=1\n",
    "                self.BFS(node, visited)\n",
    "        return cnt\n"
   ]
  },
  {
   "cell_type": "code",
   "execution_count": 13,
   "metadata": {},
   "outputs": [
    {
     "name": "stdout",
     "output_type": "stream",
     "text": [
      "[[(1, 1), (2, 1)], [(0, 1), (2, 1)], [(0, 1), (1, 1)], [(4, 1)], [(3, 1)], [(6, 1), (7, 1)], [(5, 1)], [(5, 1)]]\n"
     ]
    },
    {
     "data": {
      "text/plain": [
       "12"
      ]
     },
     "execution_count": 13,
     "metadata": {},
     "output_type": "execute_result"
    }
   ],
   "source": [
    "graph = Graph(8, False)\n",
    "graph.addEdge(0, 1)\n",
    "graph.addEdge(0, 2)\n",
    "graph.addEdge(1, 2)\n",
    "graph.addEdge(3, 4)\n",
    "graph.addEdge(5, 6)\n",
    "graph.addEdge(5, 7)\n",
    "graph.printGraph()\n",
    "graph.numberOfEdges()"
   ]
  },
  {
   "cell_type": "code",
   "execution_count": 14,
   "metadata": {},
   "outputs": [
    {
     "data": {
      "text/plain": [
       "3"
      ]
     },
     "execution_count": 14,
     "metadata": {},
     "output_type": "execute_result"
    }
   ],
   "source": [
    "graph.countComponents()"
   ]
  }
 ],
 "metadata": {
  "kernelspec": {
   "display_name": "Python 3",
   "language": "python",
   "name": "python3"
  },
  "language_info": {
   "codemirror_mode": {
    "name": "ipython",
    "version": 3
   },
   "file_extension": ".py",
   "mimetype": "text/x-python",
   "name": "python",
   "nbconvert_exporter": "python",
   "pygments_lexer": "ipython3",
   "version": "3.9.6"
  }
 },
 "nbformat": 4,
 "nbformat_minor": 2
}
