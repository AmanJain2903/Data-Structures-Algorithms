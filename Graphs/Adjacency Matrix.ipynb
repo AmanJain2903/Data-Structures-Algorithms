{
 "cells": [
  {
   "cell_type": "markdown",
   "metadata": {},
   "source": [
    "# GRAPH REPRESENTATION 1 : ADJACENCY MATRIX"
   ]
  },
  {
   "cell_type": "code",
   "execution_count": 17,
   "metadata": {},
   "outputs": [],
   "source": [
    "class Graph:\n",
    "    def __init__(self, N, isDirected):\n",
    "        self.N = N\n",
    "        self.isDirected = isDirected\n",
    "        self.adjMat = [[0]*self.N for _ in range(self.N)]\n",
    "    def addEdge(self, a, b, w=1):\n",
    "        if a>=self.N or b>=self.N:\n",
    "            return\n",
    "        if self.isDirected:\n",
    "            self.adjMat[a][b]=w\n",
    "        else:\n",
    "            self.adjMat[a][b]=w\n",
    "            self.adjMat[b][a]=w\n",
    "    def printGraph(self):\n",
    "        for i in range(self.N):\n",
    "            print(self.adjMat[i])\n",
    "    def numberOfEdges(self):\n",
    "        cnt = 0\n",
    "        for i in range(self.N):\n",
    "            for j in range(self.N):\n",
    "                if self.adjMat[i][j]!=0:\n",
    "                    cnt+=1\n",
    "        return cnt"
   ]
  },
  {
   "cell_type": "markdown",
   "metadata": {},
   "source": [
    "# UNDIRECTED GRAPH"
   ]
  },
  {
   "cell_type": "code",
   "execution_count": 22,
   "metadata": {},
   "outputs": [
    {
     "name": "stdout",
     "output_type": "stream",
     "text": [
      "[0, 1, 1, 0, 1]\n",
      "[1, 0, 1, 1, 1]\n",
      "[1, 1, 0, 1, 1]\n",
      "[0, 1, 1, 0, 0]\n",
      "[1, 1, 1, 0, 0]\n"
     ]
    },
    {
     "data": {
      "text/plain": [
       "16"
      ]
     },
     "execution_count": 22,
     "metadata": {},
     "output_type": "execute_result"
    }
   ],
   "source": [
    "graph = Graph(5, 0)\n",
    "graph.addEdge(0, 1)\n",
    "graph.addEdge(0, 2)\n",
    "graph.addEdge(0, 4)\n",
    "graph.addEdge(2, 1)\n",
    "graph.addEdge(4, 1)\n",
    "graph.addEdge(3, 2)\n",
    "graph.addEdge(2, 4)\n",
    "graph.addEdge(1, 3)\n",
    "graph.printGraph()\n",
    "graph.numberOfEdges()"
   ]
  },
  {
   "cell_type": "markdown",
   "metadata": {},
   "source": [
    "# DIRECTED GRAPH"
   ]
  },
  {
   "cell_type": "code",
   "execution_count": 23,
   "metadata": {},
   "outputs": [
    {
     "name": "stdout",
     "output_type": "stream",
     "text": [
      "[0, 1, 1, 0, 1]\n",
      "[0, 0, 0, 1, 0]\n",
      "[0, 1, 0, 0, 1]\n",
      "[0, 0, 1, 0, 0]\n",
      "[0, 1, 0, 0, 0]\n"
     ]
    },
    {
     "data": {
      "text/plain": [
       "8"
      ]
     },
     "execution_count": 23,
     "metadata": {},
     "output_type": "execute_result"
    }
   ],
   "source": [
    "graph = Graph(5, 1)\n",
    "graph.addEdge(0, 1)\n",
    "graph.addEdge(0, 2)\n",
    "graph.addEdge(0, 4)\n",
    "graph.addEdge(2, 1)\n",
    "graph.addEdge(4, 1)\n",
    "graph.addEdge(3, 2)\n",
    "graph.addEdge(2, 4)\n",
    "graph.addEdge(1, 3)\n",
    "graph.printGraph()\n",
    "graph.numberOfEdges()"
   ]
  },
  {
   "cell_type": "markdown",
   "metadata": {},
   "source": [
    "# WEIGHTED DIRECTED GRAPH"
   ]
  },
  {
   "cell_type": "code",
   "execution_count": 24,
   "metadata": {},
   "outputs": [
    {
     "name": "stdout",
     "output_type": "stream",
     "text": [
      "[0, 23, 11, 0, 9]\n",
      "[0, 0, 0, 16, 0]\n",
      "[0, 8, 0, 0, 5]\n",
      "[0, 0, 3, 0, 0]\n",
      "[0, 14, 0, 0, 0]\n"
     ]
    },
    {
     "data": {
      "text/plain": [
       "8"
      ]
     },
     "execution_count": 24,
     "metadata": {},
     "output_type": "execute_result"
    }
   ],
   "source": [
    "graph = Graph(5, 1)\n",
    "graph.addEdge(0, 1, 23)\n",
    "graph.addEdge(0, 2, 11)\n",
    "graph.addEdge(0, 4, 9)\n",
    "graph.addEdge(2, 1, 8)\n",
    "graph.addEdge(4, 1, 14)\n",
    "graph.addEdge(3, 2, 3)\n",
    "graph.addEdge(2, 4, 5)\n",
    "graph.addEdge(1, 3, 16)\n",
    "graph.printGraph()\n",
    "graph.numberOfEdges()"
   ]
  }
 ],
 "metadata": {
  "kernelspec": {
   "display_name": "Python 3",
   "language": "python",
   "name": "python3"
  },
  "language_info": {
   "codemirror_mode": {
    "name": "ipython",
    "version": 3
   },
   "file_extension": ".py",
   "mimetype": "text/x-python",
   "name": "python",
   "nbconvert_exporter": "python",
   "pygments_lexer": "ipython3",
   "version": "3.9.6"
  }
 },
 "nbformat": 4,
 "nbformat_minor": 2
}
