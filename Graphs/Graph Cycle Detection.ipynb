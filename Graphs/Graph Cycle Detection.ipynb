{
 "cells": [
  {
   "cell_type": "markdown",
   "metadata": {},
   "source": [
    "# UNDIRECTED GRAPH CYCLE DETECTION"
   ]
  },
  {
   "cell_type": "code",
   "execution_count": 5,
   "metadata": {},
   "outputs": [],
   "source": [
    "class Graph:\n",
    "    def __init__(self, N, isDirected):\n",
    "        self.N = N\n",
    "        self.isDirected = isDirected\n",
    "        self.adjList = [[] for _ in range(self.N)]\n",
    "    def addEdge(self, a, b, w=1):\n",
    "        if a>=self.N or b>=self.N:\n",
    "            return\n",
    "        if self.isDirected:\n",
    "            self.adjList[a].append((b, w))\n",
    "        else:\n",
    "            self.adjList[a].append((b, w))\n",
    "            self.adjList[b].append((a, w))\n",
    "    def printGraph(self):\n",
    "        print(self.adjList)\n",
    "    def numberOfEdges(self):\n",
    "        cnt = 0\n",
    "        for i in range(self.N):\n",
    "            cnt+=len(self.adjList[i])\n",
    "        return cnt\n",
    "    def BFS(self, startNode, visited=set()):\n",
    "        traversal = []\n",
    "        queue = [startNode]\n",
    "        while queue:\n",
    "            parent = queue.pop(0)\n",
    "            if parent not in visited:\n",
    "                traversal.append(parent)\n",
    "                visited.add(parent)\n",
    "            for node, weight in self.adjList[parent]:\n",
    "                if node not in visited:\n",
    "                    queue.append(node)\n",
    "        return traversal\n",
    "    def countComponents(self):\n",
    "        visited = set()\n",
    "        cnt=0\n",
    "        for node in range(self.N):\n",
    "            if node not in visited:\n",
    "                cnt+=1\n",
    "                self.BFS(node, visited)\n",
    "        return cnt\n",
    "    def detect(self, node, visited):\n",
    "        queue = [(node, -1)]\n",
    "        while queue:\n",
    "            node, parent = queue.pop(0)\n",
    "            visited.add(node)\n",
    "            for n, w in self.adjList[node]:\n",
    "                if n==parent:\n",
    "                    continue\n",
    "                if n in visited:\n",
    "                    return True\n",
    "                queue.append((n, node))\n",
    "        return False\n",
    "    def detectCycle(self):\n",
    "        visited = set()\n",
    "        for node in range(self.N):\n",
    "            if node not in visited:\n",
    "                if self.detect(node, visited):\n",
    "                    return True\n",
    "        return False"
   ]
  },
  {
   "cell_type": "code",
   "execution_count": 15,
   "metadata": {},
   "outputs": [
    {
     "name": "stdout",
     "output_type": "stream",
     "text": [
      "[[(2, 1)], [(4, 1)], [(0, 1), (5, 1), (3, 1)], [(2, 1)], [(1, 1), (6, 1)], [(2, 1), (6, 1)], [(4, 1), (5, 1)], [(8, 1), (9, 1)], [(7, 1), (9, 1), (10, 1)], [(7, 1), (8, 1)], [(8, 1)], [(12, 1)], [(11, 1)]]\n"
     ]
    },
    {
     "data": {
      "text/plain": [
       "22"
      ]
     },
     "execution_count": 15,
     "metadata": {},
     "output_type": "execute_result"
    }
   ],
   "source": [
    "graph = Graph(13, False)\n",
    "graph.addEdge(0, 2)\n",
    "graph.addEdge(1, 4)\n",
    "graph.addEdge(2, 5)\n",
    "graph.addEdge(2, 3)\n",
    "graph.addEdge(4, 6)\n",
    "graph.addEdge(5, 6)\n",
    "graph.addEdge(7, 8)\n",
    "graph.addEdge(7, 9)\n",
    "graph.addEdge(8, 9)\n",
    "graph.addEdge(8, 10)\n",
    "graph.addEdge(11, 12)\n",
    "graph.printGraph()\n",
    "graph.numberOfEdges()"
   ]
  },
  {
   "cell_type": "code",
   "execution_count": 16,
   "metadata": {},
   "outputs": [
    {
     "data": {
      "text/plain": [
       "True"
      ]
     },
     "execution_count": 16,
     "metadata": {},
     "output_type": "execute_result"
    }
   ],
   "source": [
    "graph.detectCycle()"
   ]
  },
  {
   "cell_type": "markdown",
   "metadata": {},
   "source": [
    "# DIRECTED GRAPH CYCLE DETECTION"
   ]
  },
  {
   "cell_type": "code",
   "execution_count": 31,
   "metadata": {},
   "outputs": [],
   "source": [
    "class Graph:\n",
    "    def __init__(self, N, isDirected):\n",
    "        self.N = N\n",
    "        self.isDirected = isDirected\n",
    "        self.adjList = [[] for _ in range(self.N)]\n",
    "    def addEdge(self, a, b, w=1):\n",
    "        if a>=self.N or b>=self.N:\n",
    "            return\n",
    "        if self.isDirected:\n",
    "            self.adjList[a].append((b, w))\n",
    "        else:\n",
    "            self.adjList[a].append((b, w))\n",
    "            self.adjList[b].append((a, w))\n",
    "    def printGraph(self):\n",
    "        print(self.adjList)\n",
    "    def numberOfEdges(self):\n",
    "        cnt = 0\n",
    "        for i in range(self.N):\n",
    "            cnt+=len(self.adjList[i])\n",
    "        return cnt\n",
    "    def BFS(self, startNode, visited=set()):\n",
    "        traversal = []\n",
    "        queue = [startNode]\n",
    "        while queue:\n",
    "            parent = queue.pop(0)\n",
    "            if parent not in visited:\n",
    "                traversal.append(parent)\n",
    "                visited.add(parent)\n",
    "            for node, weight in self.adjList[parent]:\n",
    "                if node not in visited:\n",
    "                    queue.append(node)\n",
    "        return traversal\n",
    "    def countComponents(self):\n",
    "        visited = set()\n",
    "        cnt=0\n",
    "        for node in range(self.N):\n",
    "            if node not in visited:\n",
    "                cnt+=1\n",
    "                self.BFS(node, visited)\n",
    "        return cnt\n",
    "    def detect(self, node, visited):\n",
    "        queue = [(node, -1)]\n",
    "        while queue:\n",
    "            node, parent = queue.pop(0)\n",
    "            visited.add(node)\n",
    "            for n, w in self.adjList[node]:\n",
    "                if n==parent:\n",
    "                    continue\n",
    "                if n in visited:\n",
    "                    return True\n",
    "                queue.append((n, node))\n",
    "        return False\n",
    "    def detectCycle(self):\n",
    "        visited = set()\n",
    "        for node in range(self.N):\n",
    "            if node not in visited:\n",
    "                if self.detect(node, visited):\n",
    "                    return True\n",
    "        return False\n",
    "    def detectDirected(self, node, visited, pathVisited):\n",
    "        visited[node]=1\n",
    "        pathVisited[node]=1\n",
    "        for adj, wt in self.adjList[node]:\n",
    "            if pathVisited[adj]==1:\n",
    "                return True\n",
    "            if visited[adj]==0:\n",
    "                if self.detectDirected(adj, visited, pathVisited):\n",
    "                    return True\n",
    "        pathVisited[node]=0\n",
    "        return False\n",
    "    def detectCycleDirected(self):\n",
    "        visited = [0]*self.N\n",
    "        pathVisited = [0]*self.N\n",
    "        for node in range(self.N):\n",
    "            if visited[node]==0:\n",
    "                if self.detectDirected(node, visited, pathVisited):\n",
    "                    return True\n",
    "        return False"
   ]
  },
  {
   "cell_type": "code",
   "execution_count": 36,
   "metadata": {},
   "outputs": [
    {
     "name": "stdout",
     "output_type": "stream",
     "text": [
      "[[(1, 1)], [(2, 1)], [(3, 1)], [(4, 1), (6, 1)], [(5, 1)], [], [(4, 1)], [(1, 1), (8, 1)], [(9, 1)], [(7, 1)]]\n"
     ]
    },
    {
     "data": {
      "text/plain": [
       "11"
      ]
     },
     "execution_count": 36,
     "metadata": {},
     "output_type": "execute_result"
    }
   ],
   "source": [
    "graph = Graph(10, True)\n",
    "graph.addEdge(0, 1)\n",
    "graph.addEdge(1, 2)\n",
    "graph.addEdge(2, 3)\n",
    "graph.addEdge(3, 4)\n",
    "graph.addEdge(4, 5)\n",
    "graph.addEdge(3, 6)\n",
    "graph.addEdge(6, 4)\n",
    "graph.addEdge(7, 1)\n",
    "graph.addEdge(7, 8)\n",
    "graph.addEdge(8, 9)\n",
    "graph.addEdge(9, 7)\n",
    "graph.printGraph()\n",
    "graph.numberOfEdges()"
   ]
  },
  {
   "cell_type": "code",
   "execution_count": 37,
   "metadata": {},
   "outputs": [
    {
     "data": {
      "text/plain": [
       "True"
      ]
     },
     "execution_count": 37,
     "metadata": {},
     "output_type": "execute_result"
    }
   ],
   "source": [
    "graph.detectCycleDirected()"
   ]
  },
  {
   "cell_type": "markdown",
   "metadata": {},
   "source": [
    "# KAHN'S TOPO SORT FOR CYCLE DETECTION"
   ]
  },
  {
   "cell_type": "code",
   "execution_count": 3,
   "metadata": {},
   "outputs": [],
   "source": [
    "class Graph:\n",
    "    def __init__(self, N, isDirected):\n",
    "        self.N = N\n",
    "        self.isDirected = isDirected\n",
    "        self.adjList = [[] for _ in range(self.N)]\n",
    "    def addEdge(self, a, b, w=1):\n",
    "        if a>=self.N or b>=self.N:\n",
    "            return\n",
    "        if self.isDirected:\n",
    "            self.adjList[a].append((b, w))\n",
    "        else:\n",
    "            self.adjList[a].append((b, w))\n",
    "            self.adjList[b].append((a, w))\n",
    "    def printGraph(self):\n",
    "        print(self.adjList)\n",
    "    def numberOfEdges(self):\n",
    "        cnt = 0\n",
    "        for i in range(self.N):\n",
    "            cnt+=len(self.adjList[i])\n",
    "        return cnt\n",
    "    def topoSort(self):\n",
    "        inDegree = [0]*self.N\n",
    "        for nodes in self.adjList:\n",
    "            for node, wt in nodes:\n",
    "                inDegree[node]+=1\n",
    "        queue = []\n",
    "        for node in range(len(inDegree)):\n",
    "            if inDegree[node]==0:\n",
    "                queue.append(node)\n",
    "        topoSort = []\n",
    "        while queue:\n",
    "            top = queue.pop(0)\n",
    "            topoSort.append(top)\n",
    "            for adj, wt in self.adjList[top]:\n",
    "                inDegree[adj]-=1\n",
    "                if inDegree[adj]==0:\n",
    "                    queue.append(adj)\n",
    "        return topoSort\n",
    "    def detectCycle(self):\n",
    "        ts = self.topoSort()\n",
    "        if len(ts)==self.N:\n",
    "            return False\n",
    "        return True"
   ]
  },
  {
   "cell_type": "code",
   "execution_count": 8,
   "metadata": {},
   "outputs": [
    {
     "name": "stdout",
     "output_type": "stream",
     "text": [
      "[[(1, 1)], [(2, 1)], [(3, 1)], [(4, 1), (6, 1)], [(5, 1)], [], [(4, 1)], [(1, 1), (8, 1)], [(9, 1)], [(7, 1)]]\n"
     ]
    },
    {
     "data": {
      "text/plain": [
       "11"
      ]
     },
     "execution_count": 8,
     "metadata": {},
     "output_type": "execute_result"
    }
   ],
   "source": [
    "graph = Graph(10, True)\n",
    "graph.addEdge(0, 1)\n",
    "graph.addEdge(1, 2)\n",
    "graph.addEdge(2, 3)\n",
    "graph.addEdge(3, 4)\n",
    "graph.addEdge(4, 5)\n",
    "graph.addEdge(3, 6)\n",
    "graph.addEdge(6, 4)\n",
    "graph.addEdge(7, 1)\n",
    "graph.addEdge(7, 8)\n",
    "graph.addEdge(8, 9)\n",
    "graph.addEdge(9, 7)\n",
    "graph.printGraph()\n",
    "graph.numberOfEdges()"
   ]
  },
  {
   "cell_type": "code",
   "execution_count": 9,
   "metadata": {},
   "outputs": [
    {
     "data": {
      "text/plain": [
       "True"
      ]
     },
     "execution_count": 9,
     "metadata": {},
     "output_type": "execute_result"
    }
   ],
   "source": [
    "graph.detectCycle()"
   ]
  }
 ],
 "metadata": {
  "kernelspec": {
   "display_name": "Python 3",
   "language": "python",
   "name": "python3"
  },
  "language_info": {
   "codemirror_mode": {
    "name": "ipython",
    "version": 3
   },
   "file_extension": ".py",
   "mimetype": "text/x-python",
   "name": "python",
   "nbconvert_exporter": "python",
   "pygments_lexer": "ipython3",
   "version": "3.9.6"
  }
 },
 "nbformat": 4,
 "nbformat_minor": 2
}
