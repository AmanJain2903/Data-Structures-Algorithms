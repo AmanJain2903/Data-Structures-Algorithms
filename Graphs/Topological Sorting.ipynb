{
 "cells": [
  {
   "cell_type": "markdown",
   "metadata": {},
   "source": [
    "# TOPOLOGICAL SORTING USING DFS"
   ]
  },
  {
   "cell_type": "code",
   "execution_count": 5,
   "metadata": {},
   "outputs": [],
   "source": [
    "class Graph:\n",
    "    def __init__(self, N, isDirected):\n",
    "        self.N = N\n",
    "        self.isDirected = isDirected\n",
    "        self.adjList = [[] for _ in range(self.N)]\n",
    "    def addEdge(self, a, b, w=1):\n",
    "        if a>=self.N or b>=self.N:\n",
    "            return\n",
    "        if self.isDirected:\n",
    "            self.adjList[a].append((b, w))\n",
    "        else:\n",
    "            self.adjList[a].append((b, w))\n",
    "            self.adjList[b].append((a, w))\n",
    "    def printGraph(self):\n",
    "        print(self.adjList)\n",
    "    def numberOfEdges(self):\n",
    "        cnt = 0\n",
    "        for i in range(self.N):\n",
    "            cnt+=len(self.adjList[i])\n",
    "        return cnt\n",
    "    def findTopo(self, node, topoStack, visited):\n",
    "        visited[node]=1\n",
    "        for adj, wt in self.adjList[node]:\n",
    "            if visited[adj]==0:\n",
    "                self.findTopo(adj, topoStack, visited)\n",
    "        topoStack.append(node)\n",
    "    def topoSort(self, topoStack=[]):\n",
    "        visited = [0]*self.N\n",
    "        for node in range(self.N):\n",
    "            if visited[node]==0:\n",
    "                self.findTopo(node, topoStack, visited)\n",
    "        return topoStack[::-1]"
   ]
  },
  {
   "cell_type": "code",
   "execution_count": 6,
   "metadata": {},
   "outputs": [
    {
     "name": "stdout",
     "output_type": "stream",
     "text": [
      "[[], [], [(3, 1)], [(1, 1)], [(0, 1), (1, 1)], [(0, 1), (2, 1)]]\n"
     ]
    },
    {
     "data": {
      "text/plain": [
       "6"
      ]
     },
     "execution_count": 6,
     "metadata": {},
     "output_type": "execute_result"
    }
   ],
   "source": [
    "graph = Graph(6, True)\n",
    "graph.addEdge(5, 0)\n",
    "graph.addEdge(4, 0)\n",
    "graph.addEdge(4, 1)\n",
    "graph.addEdge(5, 2)\n",
    "graph.addEdge(2, 3)\n",
    "graph.addEdge(3, 1)\n",
    "graph.printGraph()\n",
    "graph.numberOfEdges()"
   ]
  },
  {
   "cell_type": "code",
   "execution_count": 7,
   "metadata": {},
   "outputs": [
    {
     "data": {
      "text/plain": [
       "[5, 4, 2, 3, 1, 0]"
      ]
     },
     "execution_count": 7,
     "metadata": {},
     "output_type": "execute_result"
    }
   ],
   "source": [
    "graph.topoSort([])"
   ]
  }
 ],
 "metadata": {
  "kernelspec": {
   "display_name": "Python 3",
   "language": "python",
   "name": "python3"
  },
  "language_info": {
   "codemirror_mode": {
    "name": "ipython",
    "version": 3
   },
   "file_extension": ".py",
   "mimetype": "text/x-python",
   "name": "python",
   "nbconvert_exporter": "python",
   "pygments_lexer": "ipython3",
   "version": "3.9.6"
  }
 },
 "nbformat": 4,
 "nbformat_minor": 2
}
